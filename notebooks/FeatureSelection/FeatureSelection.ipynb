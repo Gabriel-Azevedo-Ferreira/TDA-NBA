{
 "cells": [
  {
   "cell_type": "markdown",
   "metadata": {},
   "source": [
    "<div class = \"page-header\">\n",
    "    <h1 class = \"alert alert-info\">\n",
    "    Feature Selection<br/>\n",
    "    <small>\n",
    "        Gustavo Pereira de Castro<br/>\n",
    "    </small>\n",
    "    </h1> \n",
    "</div>"
   ]
  },
  {
   "cell_type": "markdown",
   "metadata": {},
   "source": [
    "<div class=\"alert alert-success\">\n",
    "    <h2>\n",
    "        Imports\n",
    "    </h2>\n",
    "</div>\n",
    "<h4 class=\"alert alert-warning\">Importing libraries and checking working directory</h4>"
   ]
  },
  {
   "cell_type": "code",
   "execution_count": 1,
   "metadata": {
    "collapsed": false
   },
   "outputs": [],
   "source": [
    "import pandas as pd\n",
    "import numpy as np\n",
    "\n",
    "# import libraries for visualization\n",
    "%matplotlib inline\n",
    "import matplotlib.pyplot as plt\n",
    "import pylab\n",
    "\n",
    "#import libraries for features decomposition\n",
    "import sklearn as sk\n",
    "from sklearn.preprocessing import scale\n",
    "from sklearn.decomposition import PCA\n",
    "\n",
    "#Visualization param\n",
    "pd.options.display.max_columns = None\n",
    "pd.options.display.max_rows = None"
   ]
  },
  {
   "cell_type": "markdown",
   "metadata": {},
   "source": [
    "<h4 class=\"alert alert-warning\">Actually importing the data</h4>"
   ]
  },
  {
   "cell_type": "code",
   "execution_count": 2,
   "metadata": {
    "collapsed": false
   },
   "outputs": [
    {
     "name": "stdout",
     "output_type": "stream",
     "text": [
      "(rows,cols) = (476, 31)\n"
     ]
    },
    {
     "data": {
      "text/html": [
       "<div>\n",
       "<table border=\"1\" class=\"dataframe\">\n",
       "  <thead>\n",
       "    <tr style=\"text-align: right;\">\n",
       "      <th></th>\n",
       "      <th>Unnamed: 0</th>\n",
       "      <th>Player</th>\n",
       "      <th>TEAM</th>\n",
       "      <th>AGE</th>\n",
       "      <th>GP</th>\n",
       "      <th>W</th>\n",
       "      <th>L</th>\n",
       "      <th>MIN</th>\n",
       "      <th>FGM</th>\n",
       "      <th>FGA</th>\n",
       "      <th>FG%</th>\n",
       "      <th>03:00:00 PM</th>\n",
       "      <th>3PA</th>\n",
       "      <th>3P%</th>\n",
       "      <th>FTM</th>\n",
       "      <th>FTA</th>\n",
       "      <th>FT%</th>\n",
       "      <th>OREB</th>\n",
       "      <th>DREB</th>\n",
       "      <th>REB</th>\n",
       "      <th>AST</th>\n",
       "      <th>TOV</th>\n",
       "      <th>STL</th>\n",
       "      <th>BLK</th>\n",
       "      <th>PF</th>\n",
       "      <th>DD2</th>\n",
       "      <th>TD3</th>\n",
       "      <th>PTS</th>\n",
       "      <th>+/-</th>\n",
       "      <th>PosicAbbrev</th>\n",
       "      <th>SALARY</th>\n",
       "    </tr>\n",
       "  </thead>\n",
       "  <tbody>\n",
       "    <tr>\n",
       "      <th>0</th>\n",
       "      <td>0</td>\n",
       "      <td>Aaron Brooks</td>\n",
       "      <td>CHI</td>\n",
       "      <td>31</td>\n",
       "      <td>69</td>\n",
       "      <td>36</td>\n",
       "      <td>33</td>\n",
       "      <td>16.1</td>\n",
       "      <td>2.7</td>\n",
       "      <td>6.8</td>\n",
       "      <td>40.1</td>\n",
       "      <td>1.0</td>\n",
       "      <td>2.7</td>\n",
       "      <td>35.7</td>\n",
       "      <td>0.7</td>\n",
       "      <td>0.9</td>\n",
       "      <td>76.6</td>\n",
       "      <td>0.3</td>\n",
       "      <td>1.2</td>\n",
       "      <td>1.5</td>\n",
       "      <td>2.6</td>\n",
       "      <td>1.2</td>\n",
       "      <td>0.4</td>\n",
       "      <td>0.1</td>\n",
       "      <td>1.9</td>\n",
       "      <td>0</td>\n",
       "      <td>0</td>\n",
       "      <td>7.1</td>\n",
       "      <td>-0.1</td>\n",
       "      <td>PG</td>\n",
       "      <td>2250000</td>\n",
       "    </tr>\n",
       "    <tr>\n",
       "      <th>1</th>\n",
       "      <td>1</td>\n",
       "      <td>Aaron Gordon</td>\n",
       "      <td>ORL</td>\n",
       "      <td>20</td>\n",
       "      <td>78</td>\n",
       "      <td>32</td>\n",
       "      <td>46</td>\n",
       "      <td>23.9</td>\n",
       "      <td>3.5</td>\n",
       "      <td>7.4</td>\n",
       "      <td>47.3</td>\n",
       "      <td>0.5</td>\n",
       "      <td>1.8</td>\n",
       "      <td>29.6</td>\n",
       "      <td>1.7</td>\n",
       "      <td>2.5</td>\n",
       "      <td>66.8</td>\n",
       "      <td>2.0</td>\n",
       "      <td>4.5</td>\n",
       "      <td>6.5</td>\n",
       "      <td>1.6</td>\n",
       "      <td>0.8</td>\n",
       "      <td>0.8</td>\n",
       "      <td>0.7</td>\n",
       "      <td>2.0</td>\n",
       "      <td>12</td>\n",
       "      <td>0</td>\n",
       "      <td>9.2</td>\n",
       "      <td>-1.0</td>\n",
       "      <td>PF</td>\n",
       "      <td>4171680</td>\n",
       "    </tr>\n",
       "    <tr>\n",
       "      <th>2</th>\n",
       "      <td>2</td>\n",
       "      <td>Aaron Harrison</td>\n",
       "      <td>CHA</td>\n",
       "      <td>21</td>\n",
       "      <td>21</td>\n",
       "      <td>15</td>\n",
       "      <td>6</td>\n",
       "      <td>4.4</td>\n",
       "      <td>0.2</td>\n",
       "      <td>0.9</td>\n",
       "      <td>26.3</td>\n",
       "      <td>0.1</td>\n",
       "      <td>0.5</td>\n",
       "      <td>30.0</td>\n",
       "      <td>0.2</td>\n",
       "      <td>0.6</td>\n",
       "      <td>41.7</td>\n",
       "      <td>0.2</td>\n",
       "      <td>0.5</td>\n",
       "      <td>0.7</td>\n",
       "      <td>0.1</td>\n",
       "      <td>0.2</td>\n",
       "      <td>0.3</td>\n",
       "      <td>0.0</td>\n",
       "      <td>0.5</td>\n",
       "      <td>0</td>\n",
       "      <td>0</td>\n",
       "      <td>0.9</td>\n",
       "      <td>-0.3</td>\n",
       "      <td>SG</td>\n",
       "      <td>525093</td>\n",
       "    </tr>\n",
       "    <tr>\n",
       "      <th>3</th>\n",
       "      <td>3</td>\n",
       "      <td>Adreian Payne</td>\n",
       "      <td>MIN</td>\n",
       "      <td>25</td>\n",
       "      <td>52</td>\n",
       "      <td>18</td>\n",
       "      <td>34</td>\n",
       "      <td>9.3</td>\n",
       "      <td>1.0</td>\n",
       "      <td>2.8</td>\n",
       "      <td>36.6</td>\n",
       "      <td>0.2</td>\n",
       "      <td>0.6</td>\n",
       "      <td>28.1</td>\n",
       "      <td>0.3</td>\n",
       "      <td>0.5</td>\n",
       "      <td>65.4</td>\n",
       "      <td>0.4</td>\n",
       "      <td>1.8</td>\n",
       "      <td>2.1</td>\n",
       "      <td>0.6</td>\n",
       "      <td>0.7</td>\n",
       "      <td>0.3</td>\n",
       "      <td>0.2</td>\n",
       "      <td>1.5</td>\n",
       "      <td>0</td>\n",
       "      <td>0</td>\n",
       "      <td>2.5</td>\n",
       "      <td>-2.3</td>\n",
       "      <td>PF</td>\n",
       "      <td>1938840</td>\n",
       "    </tr>\n",
       "    <tr>\n",
       "      <th>4</th>\n",
       "      <td>4</td>\n",
       "      <td>Al Horford</td>\n",
       "      <td>ATL</td>\n",
       "      <td>30</td>\n",
       "      <td>82</td>\n",
       "      <td>48</td>\n",
       "      <td>34</td>\n",
       "      <td>32.1</td>\n",
       "      <td>6.5</td>\n",
       "      <td>12.8</td>\n",
       "      <td>50.5</td>\n",
       "      <td>1.1</td>\n",
       "      <td>3.1</td>\n",
       "      <td>34.4</td>\n",
       "      <td>1.3</td>\n",
       "      <td>1.6</td>\n",
       "      <td>79.8</td>\n",
       "      <td>1.8</td>\n",
       "      <td>5.5</td>\n",
       "      <td>7.3</td>\n",
       "      <td>3.2</td>\n",
       "      <td>1.3</td>\n",
       "      <td>0.8</td>\n",
       "      <td>1.5</td>\n",
       "      <td>2.0</td>\n",
       "      <td>17</td>\n",
       "      <td>0</td>\n",
       "      <td>15.2</td>\n",
       "      <td>2.8</td>\n",
       "      <td>C</td>\n",
       "      <td>12000000</td>\n",
       "    </tr>\n",
       "  </tbody>\n",
       "</table>\n",
       "</div>"
      ],
      "text/plain": [
       "   Unnamed: 0          Player TEAM  AGE  GP   W   L   MIN  FGM   FGA   FG%  \\\n",
       "0           0    Aaron Brooks  CHI   31  69  36  33  16.1  2.7   6.8  40.1   \n",
       "1           1    Aaron Gordon  ORL   20  78  32  46  23.9  3.5   7.4  47.3   \n",
       "2           2  Aaron Harrison  CHA   21  21  15   6   4.4  0.2   0.9  26.3   \n",
       "3           3   Adreian Payne  MIN   25  52  18  34   9.3  1.0   2.8  36.6   \n",
       "4           4      Al Horford  ATL   30  82  48  34  32.1  6.5  12.8  50.5   \n",
       "\n",
       "   03:00:00 PM  3PA   3P%  FTM  FTA   FT%  OREB  DREB  REB  AST  TOV  STL  \\\n",
       "0          1.0  2.7  35.7  0.7  0.9  76.6   0.3   1.2  1.5  2.6  1.2  0.4   \n",
       "1          0.5  1.8  29.6  1.7  2.5  66.8   2.0   4.5  6.5  1.6  0.8  0.8   \n",
       "2          0.1  0.5  30.0  0.2  0.6  41.7   0.2   0.5  0.7  0.1  0.2  0.3   \n",
       "3          0.2  0.6  28.1  0.3  0.5  65.4   0.4   1.8  2.1  0.6  0.7  0.3   \n",
       "4          1.1  3.1  34.4  1.3  1.6  79.8   1.8   5.5  7.3  3.2  1.3  0.8   \n",
       "\n",
       "   BLK   PF  DD2  TD3   PTS  +/- PosicAbbrev    SALARY  \n",
       "0  0.1  1.9    0    0   7.1 -0.1          PG   2250000  \n",
       "1  0.7  2.0   12    0   9.2 -1.0          PF   4171680  \n",
       "2  0.0  0.5    0    0   0.9 -0.3          SG    525093  \n",
       "3  0.2  1.5    0    0   2.5 -2.3          PF   1938840  \n",
       "4  1.5  2.0   17    0  15.2  2.8           C  12000000  "
      ]
     },
     "execution_count": 2,
     "metadata": {},
     "output_type": "execute_result"
    }
   ],
   "source": [
    "#import data\n",
    "df = pd.read_csv('../../Data/NBA-data-With-Positions.csv')\n",
    "print \"(rows,cols) =\",df.shape\n",
    "df.head(5)"
   ]
  },
  {
   "cell_type": "code",
   "execution_count": 3,
   "metadata": {
    "collapsed": false
   },
   "outputs": [
    {
     "data": {
      "text/html": [
       "<div>\n",
       "<table border=\"1\" class=\"dataframe\">\n",
       "  <thead>\n",
       "    <tr style=\"text-align: right;\">\n",
       "      <th></th>\n",
       "      <th>AGE</th>\n",
       "      <th>GP</th>\n",
       "      <th>W</th>\n",
       "      <th>L</th>\n",
       "      <th>MIN</th>\n",
       "      <th>FGM</th>\n",
       "      <th>FGA</th>\n",
       "      <th>FG%</th>\n",
       "      <th>03:00:00 PM</th>\n",
       "      <th>3PA</th>\n",
       "      <th>3P%</th>\n",
       "      <th>FTM</th>\n",
       "      <th>FTA</th>\n",
       "      <th>FT%</th>\n",
       "      <th>OREB</th>\n",
       "      <th>DREB</th>\n",
       "      <th>REB</th>\n",
       "      <th>AST</th>\n",
       "      <th>TOV</th>\n",
       "      <th>STL</th>\n",
       "      <th>BLK</th>\n",
       "      <th>PF</th>\n",
       "      <th>DD2</th>\n",
       "      <th>TD3</th>\n",
       "      <th>PTS</th>\n",
       "      <th>+/-</th>\n",
       "      <th>SALARY</th>\n",
       "    </tr>\n",
       "  </thead>\n",
       "  <tbody>\n",
       "    <tr>\n",
       "      <th>0</th>\n",
       "      <td>31</td>\n",
       "      <td>69</td>\n",
       "      <td>36</td>\n",
       "      <td>33</td>\n",
       "      <td>16.1</td>\n",
       "      <td>2.7</td>\n",
       "      <td>6.8</td>\n",
       "      <td>40.1</td>\n",
       "      <td>1.0</td>\n",
       "      <td>2.7</td>\n",
       "      <td>35.7</td>\n",
       "      <td>0.7</td>\n",
       "      <td>0.9</td>\n",
       "      <td>76.6</td>\n",
       "      <td>0.3</td>\n",
       "      <td>1.2</td>\n",
       "      <td>1.5</td>\n",
       "      <td>2.6</td>\n",
       "      <td>1.2</td>\n",
       "      <td>0.4</td>\n",
       "      <td>0.1</td>\n",
       "      <td>1.9</td>\n",
       "      <td>0</td>\n",
       "      <td>0</td>\n",
       "      <td>7.1</td>\n",
       "      <td>-0.1</td>\n",
       "      <td>2250000</td>\n",
       "    </tr>\n",
       "    <tr>\n",
       "      <th>1</th>\n",
       "      <td>20</td>\n",
       "      <td>78</td>\n",
       "      <td>32</td>\n",
       "      <td>46</td>\n",
       "      <td>23.9</td>\n",
       "      <td>3.5</td>\n",
       "      <td>7.4</td>\n",
       "      <td>47.3</td>\n",
       "      <td>0.5</td>\n",
       "      <td>1.8</td>\n",
       "      <td>29.6</td>\n",
       "      <td>1.7</td>\n",
       "      <td>2.5</td>\n",
       "      <td>66.8</td>\n",
       "      <td>2.0</td>\n",
       "      <td>4.5</td>\n",
       "      <td>6.5</td>\n",
       "      <td>1.6</td>\n",
       "      <td>0.8</td>\n",
       "      <td>0.8</td>\n",
       "      <td>0.7</td>\n",
       "      <td>2.0</td>\n",
       "      <td>12</td>\n",
       "      <td>0</td>\n",
       "      <td>9.2</td>\n",
       "      <td>-1.0</td>\n",
       "      <td>4171680</td>\n",
       "    </tr>\n",
       "    <tr>\n",
       "      <th>2</th>\n",
       "      <td>21</td>\n",
       "      <td>21</td>\n",
       "      <td>15</td>\n",
       "      <td>6</td>\n",
       "      <td>4.4</td>\n",
       "      <td>0.2</td>\n",
       "      <td>0.9</td>\n",
       "      <td>26.3</td>\n",
       "      <td>0.1</td>\n",
       "      <td>0.5</td>\n",
       "      <td>30.0</td>\n",
       "      <td>0.2</td>\n",
       "      <td>0.6</td>\n",
       "      <td>41.7</td>\n",
       "      <td>0.2</td>\n",
       "      <td>0.5</td>\n",
       "      <td>0.7</td>\n",
       "      <td>0.1</td>\n",
       "      <td>0.2</td>\n",
       "      <td>0.3</td>\n",
       "      <td>0.0</td>\n",
       "      <td>0.5</td>\n",
       "      <td>0</td>\n",
       "      <td>0</td>\n",
       "      <td>0.9</td>\n",
       "      <td>-0.3</td>\n",
       "      <td>525093</td>\n",
       "    </tr>\n",
       "    <tr>\n",
       "      <th>3</th>\n",
       "      <td>25</td>\n",
       "      <td>52</td>\n",
       "      <td>18</td>\n",
       "      <td>34</td>\n",
       "      <td>9.3</td>\n",
       "      <td>1.0</td>\n",
       "      <td>2.8</td>\n",
       "      <td>36.6</td>\n",
       "      <td>0.2</td>\n",
       "      <td>0.6</td>\n",
       "      <td>28.1</td>\n",
       "      <td>0.3</td>\n",
       "      <td>0.5</td>\n",
       "      <td>65.4</td>\n",
       "      <td>0.4</td>\n",
       "      <td>1.8</td>\n",
       "      <td>2.1</td>\n",
       "      <td>0.6</td>\n",
       "      <td>0.7</td>\n",
       "      <td>0.3</td>\n",
       "      <td>0.2</td>\n",
       "      <td>1.5</td>\n",
       "      <td>0</td>\n",
       "      <td>0</td>\n",
       "      <td>2.5</td>\n",
       "      <td>-2.3</td>\n",
       "      <td>1938840</td>\n",
       "    </tr>\n",
       "    <tr>\n",
       "      <th>4</th>\n",
       "      <td>30</td>\n",
       "      <td>82</td>\n",
       "      <td>48</td>\n",
       "      <td>34</td>\n",
       "      <td>32.1</td>\n",
       "      <td>6.5</td>\n",
       "      <td>12.8</td>\n",
       "      <td>50.5</td>\n",
       "      <td>1.1</td>\n",
       "      <td>3.1</td>\n",
       "      <td>34.4</td>\n",
       "      <td>1.3</td>\n",
       "      <td>1.6</td>\n",
       "      <td>79.8</td>\n",
       "      <td>1.8</td>\n",
       "      <td>5.5</td>\n",
       "      <td>7.3</td>\n",
       "      <td>3.2</td>\n",
       "      <td>1.3</td>\n",
       "      <td>0.8</td>\n",
       "      <td>1.5</td>\n",
       "      <td>2.0</td>\n",
       "      <td>17</td>\n",
       "      <td>0</td>\n",
       "      <td>15.2</td>\n",
       "      <td>2.8</td>\n",
       "      <td>12000000</td>\n",
       "    </tr>\n",
       "  </tbody>\n",
       "</table>\n",
       "</div>"
      ],
      "text/plain": [
       "   AGE  GP   W   L   MIN  FGM   FGA   FG%  03:00:00 PM  3PA   3P%  FTM  FTA  \\\n",
       "0   31  69  36  33  16.1  2.7   6.8  40.1          1.0  2.7  35.7  0.7  0.9   \n",
       "1   20  78  32  46  23.9  3.5   7.4  47.3          0.5  1.8  29.6  1.7  2.5   \n",
       "2   21  21  15   6   4.4  0.2   0.9  26.3          0.1  0.5  30.0  0.2  0.6   \n",
       "3   25  52  18  34   9.3  1.0   2.8  36.6          0.2  0.6  28.1  0.3  0.5   \n",
       "4   30  82  48  34  32.1  6.5  12.8  50.5          1.1  3.1  34.4  1.3  1.6   \n",
       "\n",
       "    FT%  OREB  DREB  REB  AST  TOV  STL  BLK   PF  DD2  TD3   PTS  +/-  \\\n",
       "0  76.6   0.3   1.2  1.5  2.6  1.2  0.4  0.1  1.9    0    0   7.1 -0.1   \n",
       "1  66.8   2.0   4.5  6.5  1.6  0.8  0.8  0.7  2.0   12    0   9.2 -1.0   \n",
       "2  41.7   0.2   0.5  0.7  0.1  0.2  0.3  0.0  0.5    0    0   0.9 -0.3   \n",
       "3  65.4   0.4   1.8  2.1  0.6  0.7  0.3  0.2  1.5    0    0   2.5 -2.3   \n",
       "4  79.8   1.8   5.5  7.3  3.2  1.3  0.8  1.5  2.0   17    0  15.2  2.8   \n",
       "\n",
       "     SALARY  \n",
       "0   2250000  \n",
       "1   4171680  \n",
       "2    525093  \n",
       "3   1938840  \n",
       "4  12000000  "
      ]
     },
     "execution_count": 3,
     "metadata": {},
     "output_type": "execute_result"
    }
   ],
   "source": [
    "dict = {' PG': 1, ' PF': 2, ' SG' : 3, ' SF' : 4, ' C' : 5}\n",
    "invdict = {v: k for k, v in dict.iteritems()}\n",
    "\n",
    "position_labels = [dict[x] for x in df['PosicAbbrev']]\n",
    "df_numVar = df.select_dtypes(include=['number']).drop('Unnamed: 0',1)\n",
    "df_numVar.head()"
   ]
  },
  {
   "cell_type": "markdown",
   "metadata": {},
   "source": [
    "<h2 class=\"alert alert-success\">\n",
    "    Feature Selection Methods\n",
    "</h2>"
   ]
  },
  {
   "cell_type": "markdown",
   "metadata": {},
   "source": [
    "<h4 class = \"alert alert-warning\"/> VarianceThreshold (this method will be used before all other ones)"
   ]
  },
  {
   "cell_type": "code",
   "execution_count": 4,
   "metadata": {
    "collapsed": false
   },
   "outputs": [],
   "source": [
    "#from sklearn.feature_selection import VarianceThreshold\n",
    "#sel = VarianceThreshold(threshold=(.5 * (1 - .5)))\n",
    "#newdf = sel.fit_transform(df_numVar)"
   ]
  },
  {
   "cell_type": "markdown",
   "metadata": {},
   "source": [
    "This method did not prove good, as it we are using floats and it looks for exact values in comparisons"
   ]
  },
  {
   "cell_type": "markdown",
   "metadata": {},
   "source": [
    "<h4 class = \"alert alert-warning\"/> Eliminating players without a minimum amount of minutes played </h4>"
   ]
  },
  {
   "cell_type": "markdown",
   "metadata": {},
   "source": [
    "Another relevant thing we can do is limit our algorithm to the players that played more than a certain number of minutes per game (this worsened our results, so I will comment it, maybe because my threshold was too large)"
   ]
  },
  {
   "cell_type": "code",
   "execution_count": 5,
   "metadata": {
    "collapsed": false
   },
   "outputs": [],
   "source": [
    "#withoutplayers = df_numVar[df_numVar[\"MIN\"]>10]\n",
    "#df_numVar = withoutplayers\n",
    "#newposlabels = list()\n",
    "#aux = df_numVar[\"MIN\"]>10\n",
    "#for i in range(len(position_labels)):\n",
    "#    if aux[i] == True:\n",
    "#        newposlabels.append(position_labels[i])\n",
    "#newposlabels = np.array(newposlabels) #saving position labels for chosen players in new array"
   ]
  },
  {
   "cell_type": "markdown",
   "metadata": {},
   "source": [
    "<h4 class = \"alert alert-warning\"/> Transforming data into matricial data </h4>"
   ]
  },
  {
   "cell_type": "code",
   "execution_count": 6,
   "metadata": {
    "collapsed": true
   },
   "outputs": [],
   "source": [
    "newdf = df_numVar.as_matrix()"
   ]
  },
  {
   "cell_type": "markdown",
   "metadata": {},
   "source": [
    "Now we will try to use the most classical feature selection methods for unsupervised learning"
   ]
  },
  {
   "cell_type": "markdown",
   "metadata": {},
   "source": [
    "<h4 class = \"alert alert-warning\"/> 1 - Laplacian Score </h4>"
   ]
  },
  {
   "cell_type": "code",
   "execution_count": 7,
   "metadata": {
    "collapsed": false
   },
   "outputs": [
    {
     "name": "stdout",
     "output_type": "stream",
     "text": [
      "[  0.00000000e+00   0.00000000e+00   4.44089210e-16   5.55111512e-16\n",
      "   0.00000000e+00   1.11022302e-16   4.44089210e-16   3.21964677e-15\n",
      "   0.00000000e+00   5.55111512e-16   0.00000000e+00   0.00000000e+00\n",
      "   3.33066907e-16   0.00000000e+00   1.55431223e-15   0.00000000e+00\n",
      "   1.11022302e-16   5.55111512e-16   1.55431223e-15   5.55111512e-16\n",
      "   7.77156117e-15   4.32986980e-15   0.00000000e+00   0.00000000e+00\n",
      "   1.11022302e-16   2.88657986e-15   0.00000000e+00]\n",
      "[ 0 23 22 15 11 10  8 13 26  4  1 24  5 16 12  2  6 19  9  3 17 18 14 25  7\n",
      " 21 20]\n",
      "Index([u'AGE', u'TD3', u'DD2', u'DREB', u'FTM', u'3P%', u'03:00:00 PM'], dtype='object')\n"
     ]
    }
   ],
   "source": [
    "X = newdf\n",
    "\n",
    "from skfeature.utility import construct_W\n",
    "kwargs_W = {\"metric\":\"euclidean\",\"neighbor_mode\":\"knn\",\"weight_mode\":\"heat_kernel\",\"k\":5,'t':1}\n",
    "W = construct_W.construct_W(X, **kwargs_W)\n",
    "\n",
    "from skfeature.function.similarity_based import lap_score\n",
    "score = lap_score.lap_score(X, W=W)\n",
    "print score\n",
    "\n",
    "idx = lap_score.feature_ranking(score)\n",
    "print idx\n",
    "\n",
    "num_fea = 7\n",
    "selected_features = df_numVar.columns[idx[0:num_fea]]\n",
    "print selected_features\n",
    "\n",
    "df_final = newdf[:,idx[0:num_fea]]"
   ]
  },
  {
   "cell_type": "markdown",
   "metadata": {},
   "source": [
    "### Evaluating lap_score - compares labels generated with kmeans with actual labels"
   ]
  },
  {
   "cell_type": "code",
   "execution_count": null,
   "metadata": {
    "collapsed": false
   },
   "outputs": [],
   "source": []
  },
  {
   "cell_type": "code",
   "execution_count": 8,
   "metadata": {
    "collapsed": false
   },
   "outputs": [
    {
     "name": "stdout",
     "output_type": "stream",
     "text": [
      "Index([u'AGE', u'TD3', u'DD2', u'DREB', u'FTM', u'3P%', u'03:00:00 PM'], dtype='object')\n",
      "0.143493601771\n",
      "0.340336134454\n"
     ]
    }
   ],
   "source": [
    "from skfeature.utility import unsupervised_evaluation\n",
    "import numpy as np\n",
    "num_cluster = len(np.unique(position_labels))\n",
    "print selected_features\n",
    "nmi,acc=unsupervised_evaluation.evaluation(X_selected=df_final,n_clusters=num_cluster,y=position_labels)\n",
    "print nmi\n",
    "print acc"
   ]
  },
  {
   "cell_type": "markdown",
   "metadata": {},
   "source": [
    "### Plotting results with PCA to compare with real positions"
   ]
  },
  {
   "cell_type": "code",
   "execution_count": 9,
   "metadata": {
    "collapsed": false
   },
   "outputs": [
    {
     "data": {
      "image/png": "[encoded data removed]",
      "text/plain": [
       "<matplotlib.figure.Figure at 0xa2bd2b0>"
      ]
     },
     "metadata": {},
     "output_type": "display_data"
    }
   ],
   "source": [
    "df_scaled = sk.preprocessing.scale(df_final)\n",
    "pca = sk.decomposition.PCA(n_components=2, whiten=True)\n",
    "df_red = pca.fit_transform(df_scaled)\n",
    "\n",
    "statesN = [1,2,3,4,5]\n",
    "states = [invdict[x] for x in statesN]\n",
    "states\n",
    "\n",
    "import matplotlib.patches as mpatches\n",
    "pylab.title(\"Performing PCA\\n Players taken into account based on their minutes in game\")\n",
    "pylab.xlabel(\"Dim 1\")\n",
    "pylab.ylabel(\"Dim 2\")\n",
    "\n",
    "states = [invdict[x] for x in [1,2,3,4,5]]\n",
    "for i,l in enumerate(states):\n",
    "    x = []\n",
    "    y = []\n",
    "    for j,_ in enumerate(df_red[:, 0]):\n",
    "        if position_labels[j] == i+1:\n",
    "            x.append(df_red[j,0])\n",
    "            y.append(df_red[j,1])\n",
    "    pylab.scatter(x,y,label=l,color = np.random.rand(3,1) )\n",
    "\n",
    "pylab.legend(loc='upper center', bbox_to_anchor=(1.05, .4) ,scatterpoints = 1)\n",
    "pylab.show()"
   ]
  },
  {
   "cell_type": "markdown",
   "metadata": {},
   "source": [
    "<h4 class = \"alert alert-warning\"/> 2 - SPEC </h4>"
   ]
  },
  {
   "cell_type": "code",
   "execution_count": 27,
   "metadata": {
    "collapsed": false
   },
   "outputs": [
    {
     "name": "stdout",
     "output_type": "stream",
     "text": [
      "[  6.80347008e-09   9.93283191e-11   1.23519740e-10   4.62514014e-10\n",
      "   3.87540474e-10   2.16719732e-11   3.84764976e-10   7.13789078e-11\n",
      "   3.44926540e-13   2.81967299e-11   4.92250195e-12   8.01997781e-10\n",
      "   1.12866183e-09   1.53158327e-10   5.09693126e-09   3.60272288e-09\n",
      "   4.92164364e-09   7.00100629e-10   4.99454499e-09   1.23914254e-08\n",
      "   6.77652414e-09   1.51168893e-08   9.40741989e-11  -4.17147969e-26\n",
      "   6.11464989e-12   2.86645669e-08]\n",
      "[25 21 19  0 20 14 18 16 15 12 11 17  3  4  6 13  2  1 22  7  9  5 24 10  8\n",
      " 23]\n",
      "Index([u'+/-', u'PF', u'STL', u'AGE', u'BLK', u'OREB', u'TOV'], dtype='object')\n"
     ]
    }
   ],
   "source": [
    "X = newdf\n",
    "\n",
    "from skfeature.utility import construct_W\n",
    "kwargs_W = {\"metric\":\"euclidean\",\"neighbor_mode\":\"knn\",\"weight_mode\":\"heat_kernel\",\"k\":5,'t':1}\n",
    "W = construct_W.construct_W(X, **kwargs_W)\n",
    "\n",
    "from skfeature.function.similarity_based import SPEC\n",
    "score = SPEC.spec(X, W=W)\n",
    "print score\n",
    "\n",
    "idx = SPEC.feature_ranking(score)\n",
    "print idx\n",
    "\n",
    "num_fea = 7\n",
    "selected_features = df_numVar.columns[idx[0:num_fea]]\n",
    "print selected_features\n",
    "\n",
    "df_final = newdf[:,idx[0:num_fea]]"
   ]
  },
  {
   "cell_type": "markdown",
   "metadata": {},
   "source": [
    "### Plotting with PCA to compare with real postions"
   ]
  },
  {
   "cell_type": "code",
   "execution_count": 28,
   "metadata": {
    "collapsed": false
   },
   "outputs": [
    {
     "data": {
      "image/png": "[encoded data removed]",
      "text/plain": [
       "<matplotlib.figure.Figure at 0xb2c4358>"
      ]
     },
     "metadata": {},
     "output_type": "display_data"
    }
   ],
   "source": [
    "df_scaled = sk.preprocessing.scale(df_final)\n",
    "pca = sk.decomposition.PCA(n_components=2, whiten=True)\n",
    "df_red = pca.fit_transform(df_scaled)\n",
    "\n",
    "statesN = [1,2,3,4,5]\n",
    "states = [invdict[x] for x in statesN]\n",
    "states\n",
    "\n",
    "import matplotlib.patches as mpatches\n",
    "pylab.title(\"Performing PCA\\n Players taken into account based on their minutes in game\")\n",
    "pylab.xlabel(\"Dim 1\")\n",
    "pylab.ylabel(\"Dim 2\")\n",
    "#pylab.scatter(df_red[:, 0], df_red[:, 1], c=position_labels)\n",
    "\n",
    "states = [invdict[x] for x in [1,2,3,4,5]]\n",
    "for i,l in enumerate(states):\n",
    "    x = []\n",
    "    y = []\n",
    "    for j,_ in enumerate(df_red[:, 0]):\n",
    "        if position_labels[j] == i+1:\n",
    "            x.append(df_red[j,0])\n",
    "            y.append(df_red[j,1])\n",
    "    pylab.scatter(x,y,label=l,color = np.random.rand(3,1) )\n",
    "\n",
    "pylab.legend(loc='upper center', bbox_to_anchor=(1.05, .4) ,scatterpoints = 1)\n",
    "pylab.show()"
   ]
  },
  {
   "cell_type": "markdown",
   "metadata": {
    "collapsed": false
   },
   "source": [
    "<h4 class = \"alert alert-warning\"/> 3 - MCFS </h4>"
   ]
  },
  {
   "cell_type": "code",
   "execution_count": 29,
   "metadata": {
    "collapsed": false
   },
   "outputs": [
    {
     "name": "stdout",
     "output_type": "stream",
     "text": [
      "[14 15 19  9 21 25  0  3 13  7  2 18  8  1  4  5  6 23 17 10 11 24 22 20 16\n",
      " 12]\n",
      "Index([u'OREB', u'DREB', u'STL', u'3PA', u'PF', u'+/-', u'AGE'], dtype='object')\n"
     ]
    }
   ],
   "source": [
    "X = newdf\n",
    "\n",
    "n_features = 7\n",
    "from skfeature.utility import construct_W\n",
    "kwargs_W = {\"metric\":\"euclidean\",\"neighbor_mode\":\"knn\",\"weight_mode\":\"heat_kernel\",\"k\":5,'t':1}\n",
    "W = construct_W.construct_W(X, **kwargs_W)\n",
    "\n",
    "from skfeature.function.sparse_learning_based import MCFS\n",
    "features_weight = MCFS.mcfs(X, n_features, W=W)\n",
    "score = MCFS.feature_ranking(features_weight)\n",
    "print score\n",
    "\n",
    "num_fea = 7\n",
    "selected_features = df_numVar.columns[score[0:num_fea]]\n",
    "print selected_features\n",
    "\n",
    "df_final = newdf[:,idx[0:num_fea]]"
   ]
  },
  {
   "cell_type": "markdown",
   "metadata": {},
   "source": [
    "### Plotting with PCA to compare with real postions"
   ]
  },
  {
   "cell_type": "code",
   "execution_count": 30,
   "metadata": {
    "collapsed": false
   },
   "outputs": [
    {
     "data": {
      "image/png": "[encoded data removed]",
      "text/plain": [
       "<matplotlib.figure.Figure at 0xb5d8748>"
      ]
     },
     "metadata": {},
     "output_type": "display_data"
    }
   ],
   "source": [
    "df_scaled = sk.preprocessing.scale(df_final)\n",
    "pca = sk.decomposition.PCA(n_components=2, whiten=True)\n",
    "df_red = pca.fit_transform(df_scaled)\n",
    "\n",
    "statesN = [1,2,3,4,5]\n",
    "states = [invdict[x] for x in statesN]\n",
    "states\n",
    "\n",
    "import matplotlib.patches as mpatches\n",
    "pylab.title(\"Performing PCA\\n Players taken into account based on their minutes in game\")\n",
    "pylab.xlabel(\"Dim 1\")\n",
    "pylab.ylabel(\"Dim 2\")\n",
    "#pylab.scatter(df_red[:, 0], df_red[:, 1], c=position_labels)\n",
    "\n",
    "states = [invdict[x] for x in [1,2,3,4,5]]\n",
    "for i,l in enumerate(states):\n",
    "    x = []\n",
    "    y = []\n",
    "    for j,_ in enumerate(df_red[:, 0]):\n",
    "        if position_labels[j] == i+1:\n",
    "            x.append(df_red[j,0])\n",
    "            y.append(df_red[j,1])\n",
    "    pylab.scatter(x,y,label=l,color = np.random.rand(3,1) )\n",
    "\n",
    "pylab.legend(loc='upper center', bbox_to_anchor=(1.05, .4) ,scatterpoints = 1)\n",
    "pylab.show()"
   ]
  },
  {
   "cell_type": "markdown",
   "metadata": {},
   "source": [
    "<h4 class = \"alert alert-warning\"/> 4 - With no feature selection, pca gives this </h4>"
   ]
  },
  {
   "cell_type": "code",
   "execution_count": 32,
   "metadata": {
    "collapsed": false
   },
   "outputs": [
    {
     "data": {
      "image/png": "[encoded data removed]",
      "text/plain": [
       "<matplotlib.figure.Figure at 0xb2c4f98>"
      ]
     },
     "metadata": {},
     "output_type": "display_data"
    }
   ],
   "source": [
    "df_scaled = sk.preprocessing.scale(df_numVar)\n",
    "pca = sk.decomposition.PCA(n_components=2, whiten=True)\n",
    "df_red = pca.fit_transform(df_scaled)\n",
    "\n",
    "statesN = [1,2,3,4,5]\n",
    "states = [invdict[x] for x in statesN]\n",
    "states\n",
    "\n",
    "import matplotlib.patches as mpatches\n",
    "pylab.title(\"Performing PCA\\n Players taken into account based on their minutes in game\")\n",
    "pylab.xlabel(\"Dim 1\")\n",
    "pylab.ylabel(\"Dim 2\")\n",
    "#pylab.scatter(df_red[:, 0], df_red[:, 1], c=position_labels)\n",
    "\n",
    "states = [invdict[x] for x in [1,2,3,4,5]]\n",
    "for i,l in enumerate(states):\n",
    "    x = []\n",
    "    y = []\n",
    "    for j,_ in enumerate(df_red[:, 0]):\n",
    "        if position_labels[j] == i+1:\n",
    "            x.append(df_red[j,0])\n",
    "            y.append(df_red[j,1])\n",
    "    pylab.scatter(x,y,label=l,color = np.random.rand(3,1) )\n",
    "\n",
    "pylab.legend(loc='upper center', bbox_to_anchor=(1.05, .4) ,scatterpoints = 1)\n",
    "pylab.show()"
   ]
  },
  {
   "cell_type": "markdown",
   "metadata": {
    "collapsed": true
   },
   "source": [
    "<h4 class = \"alert alert-warning\"/> 5 - With the features chosen in the paper ('REB','AST','TOV','STL','BLK','PF','PTS'), pca gives this:</h4>"
   ]
  },
  {
   "cell_type": "code",
   "execution_count": 33,
   "metadata": {
    "collapsed": false
   },
   "outputs": [
    {
     "data": {
      "image/png": "[encoded data removed]",
      "text/plain": [
       "<matplotlib.figure.Figure at 0xba97908>"
      ]
     },
     "metadata": {},
     "output_type": "display_data"
    }
   ],
   "source": [
    "auxnames = ['REB','AST','TOV','STL','BLK','PF','PTS']\n",
    "df_final = df_numVar[auxnames]\n",
    "\n",
    "df_scaled = sk.preprocessing.scale(df_final)\n",
    "pca = sk.decomposition.PCA(n_components=2, whiten=True)\n",
    "df_red = pca.fit_transform(df_scaled)\n",
    "\n",
    "statesN = [1,2,3,4,5]\n",
    "states = [invdict[x] for x in statesN]\n",
    "states\n",
    "\n",
    "import matplotlib.patches as mpatches\n",
    "pylab.title(\"Performing PCA\\n Players taken into account based on their minutes in game\")\n",
    "pylab.xlabel(\"Dim 1\")\n",
    "pylab.ylabel(\"Dim 2\")\n",
    "#pylab.scatter(df_red[:, 0], df_red[:, 1], c=position_labels)\n",
    "\n",
    "states = [invdict[x] for x in [1,2,3,4,5]]\n",
    "for i,l in enumerate(states):\n",
    "    x = []\n",
    "    y = []\n",
    "    for j,_ in enumerate(df_red[:, 0]):\n",
    "        if position_labels[j] == i+1:\n",
    "            x.append(df_red[j,0])\n",
    "            y.append(df_red[j,1])\n",
    "    pylab.scatter(x,y,label=l,color = np.random.rand(3,1) )\n",
    "\n",
    "pylab.legend(loc='upper center', bbox_to_anchor=(1.05, .4) ,scatterpoints = 1)\n",
    "pylab.show()"
   ]
  },
  {
   "cell_type": "markdown",
   "metadata": {},
   "source": [
    "<h2 class=\"alert alert-success\">\n",
    "    Analysis\n",
    "</h2>"
   ]
  },
  {
   "cell_type": "markdown",
   "metadata": {},
   "source": [
    "We decided to choose 7 features for each feature selection model as it is the amount of features used in the article we are basing our work on. After using these three feature selection methods, and comparing them with the features chosen in the article, it is hard to precisely choose which one was the best because each method has its own ranking method, but with the future clustering, we will be able to be sure of which one is best for clustering. In my opinion SPEC, MCFS and the columns chosen by Alagappan gave the best results (looking at the PCA plots), so it would be a good idea to keep them for the clustering phase to check which one is the best."
   ]
  },
  {
   "cell_type": "markdown",
   "metadata": {},
   "source": [
    "One last possible idea for the clustering is to eliminate outliers before doing it in order to improve its results. Although this might be a good idea for clustering, for our final mapper algorithm, it should not be done, as we wish to rank all players. Again, it might be a good idea just to try to find players positions."
   ]
  },
  {
   "cell_type": "code",
   "execution_count": null,
   "metadata": {
    "collapsed": true
   },
   "outputs": [],
   "source": []
  }
 ],
 "metadata": {
  "anaconda-cloud": {},
  "kernelspec": {
   "display_name": "Python [default]",
   "language": "python",
   "name": "python2"
  },
  "language_info": {
   "codemirror_mode": {
    "name": "ipython",
    "version": 2
   },
   "file_extension": ".py",
   "mimetype": "text/x-python",
   "name": "python",
   "nbconvert_exporter": "python",
   "pygments_lexer": "ipython2",
   "version": "2.7.12"
  }
 },
 "nbformat": 4,
 "nbformat_minor": 1
}

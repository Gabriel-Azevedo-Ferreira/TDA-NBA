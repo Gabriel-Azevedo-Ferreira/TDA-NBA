{
 "cells": [
  {
   "cell_type": "markdown",
   "metadata": {},
   "source": [
    "<div class = \"page-header\">\n",
    "    <h1 class = \"alert alert-info\">\n",
    "    Study of standard clustering techniques<br/>\n",
    "    <small>\n",
    "        Henrique Gasparini Fiuza do Nascimento - started: 04/02/2017<br/>\n",
    "    </small>\n",
    "    </h1> \n",
    "</div>"
   ]
  },
  {
   "cell_type": "markdown",
   "metadata": {},
   "source": [
    "<div class=\"alert alert-success\">\n",
    "    <h2>\n",
    "        Imports\n",
    "    </h2>\n",
    "</div>\n",
    "<h4 class=\"alert alert-warning\">Importing libraries and checking working directory</h4>"
   ]
  },
  {
   "cell_type": "code",
   "execution_count": 35,
   "metadata": {
    "collapsed": true
   },
   "outputs": [],
   "source": [
    "import pandas as pd\n",
    "import numpy as np\n",
    "\n",
    "# import libraries for visualization\n",
    "%matplotlib inline\n",
    "import matplotlib.pyplot as plt\n",
    "import pylab\n",
    "\n",
    "#import libraries for features decomposition\n",
    "import sklearn as sk\n",
    "from sklearn.preprocessing import scale\n",
    "from sklearn.decomposition import PCA\n",
    "\n",
    "#Visualization param\n",
    "pd.options.display.max_columns = None\n",
    "pd.options.display.max_rows = None"
   ]
  },
  {
   "cell_type": "markdown",
   "metadata": {},
   "source": [
    "<h4 class=\"alert alert-warning\">Actually importing the data</h4>"
   ]
  },
  {
   "cell_type": "code",
   "execution_count": 36,
   "metadata": {
    "collapsed": false
   },
   "outputs": [
    {
     "name": "stdout",
     "output_type": "stream",
     "text": [
      "(rows,cols) = (476, 28)\n"
     ]
    },
    {
     "data": {
      "text/html": [
       "<div>\n",
       "<table border=\"1\" class=\"dataframe\">\n",
       "  <thead>\n",
       "    <tr style=\"text-align: right;\">\n",
       "      <th></th>\n",
       "      <th>Unnamed: 0</th>\n",
       "      <th>AGE</th>\n",
       "      <th>GP</th>\n",
       "      <th>W</th>\n",
       "      <th>L</th>\n",
       "      <th>MIN</th>\n",
       "      <th>PTS</th>\n",
       "      <th>FGM</th>\n",
       "      <th>FGA</th>\n",
       "      <th>FG%</th>\n",
       "      <th>3PM</th>\n",
       "      <th>3PA</th>\n",
       "      <th>3P%</th>\n",
       "      <th>FTM</th>\n",
       "      <th>FTA</th>\n",
       "      <th>FT%</th>\n",
       "      <th>OREB</th>\n",
       "      <th>DREB</th>\n",
       "      <th>REB</th>\n",
       "      <th>AST</th>\n",
       "      <th>TOV</th>\n",
       "      <th>STL</th>\n",
       "      <th>BLK</th>\n",
       "      <th>PF</th>\n",
       "      <th>DD2</th>\n",
       "      <th>TD3</th>\n",
       "      <th>+/-</th>\n",
       "      <th>PosicNumber</th>\n",
       "    </tr>\n",
       "  </thead>\n",
       "  <tbody>\n",
       "    <tr>\n",
       "      <th>0</th>\n",
       "      <td>0</td>\n",
       "      <td>31</td>\n",
       "      <td>69</td>\n",
       "      <td>36</td>\n",
       "      <td>33</td>\n",
       "      <td>1108</td>\n",
       "      <td>0.443141</td>\n",
       "      <td>0.169675</td>\n",
       "      <td>0.423285</td>\n",
       "      <td>40.1</td>\n",
       "      <td>0.059567</td>\n",
       "      <td>0.166968</td>\n",
       "      <td>35.7</td>\n",
       "      <td>0.044224</td>\n",
       "      <td>0.057762</td>\n",
       "      <td>76.6</td>\n",
       "      <td>0.018953</td>\n",
       "      <td>0.072202</td>\n",
       "      <td>0.091155</td>\n",
       "      <td>0.162455</td>\n",
       "      <td>0.074007</td>\n",
       "      <td>0.027076</td>\n",
       "      <td>0.009025</td>\n",
       "      <td>0.119134</td>\n",
       "      <td>0.000000</td>\n",
       "      <td>0.0</td>\n",
       "      <td>-0.009025</td>\n",
       "      <td>0</td>\n",
       "    </tr>\n",
       "    <tr>\n",
       "      <th>1</th>\n",
       "      <td>1</td>\n",
       "      <td>20</td>\n",
       "      <td>78</td>\n",
       "      <td>32</td>\n",
       "      <td>46</td>\n",
       "      <td>1863</td>\n",
       "      <td>0.385937</td>\n",
       "      <td>0.147075</td>\n",
       "      <td>0.310789</td>\n",
       "      <td>47.3</td>\n",
       "      <td>0.022544</td>\n",
       "      <td>0.076221</td>\n",
       "      <td>29.6</td>\n",
       "      <td>0.069243</td>\n",
       "      <td>0.103596</td>\n",
       "      <td>66.8</td>\n",
       "      <td>0.082662</td>\n",
       "      <td>0.189479</td>\n",
       "      <td>0.272142</td>\n",
       "      <td>0.068706</td>\n",
       "      <td>0.035427</td>\n",
       "      <td>0.031669</td>\n",
       "      <td>0.029522</td>\n",
       "      <td>0.082126</td>\n",
       "      <td>0.006441</td>\n",
       "      <td>0.0</td>\n",
       "      <td>-0.040794</td>\n",
       "      <td>1</td>\n",
       "    </tr>\n",
       "    <tr>\n",
       "      <th>2</th>\n",
       "      <td>2</td>\n",
       "      <td>21</td>\n",
       "      <td>21</td>\n",
       "      <td>15</td>\n",
       "      <td>6</td>\n",
       "      <td>93</td>\n",
       "      <td>0.193548</td>\n",
       "      <td>0.053763</td>\n",
       "      <td>0.204301</td>\n",
       "      <td>26.3</td>\n",
       "      <td>0.032258</td>\n",
       "      <td>0.107527</td>\n",
       "      <td>30.0</td>\n",
       "      <td>0.053763</td>\n",
       "      <td>0.129032</td>\n",
       "      <td>41.7</td>\n",
       "      <td>0.043011</td>\n",
       "      <td>0.118280</td>\n",
       "      <td>0.161290</td>\n",
       "      <td>0.021505</td>\n",
       "      <td>0.043011</td>\n",
       "      <td>0.064516</td>\n",
       "      <td>0.000000</td>\n",
       "      <td>0.107527</td>\n",
       "      <td>0.000000</td>\n",
       "      <td>0.0</td>\n",
       "      <td>-0.075269</td>\n",
       "      <td>2</td>\n",
       "    </tr>\n",
       "    <tr>\n",
       "      <th>3</th>\n",
       "      <td>3</td>\n",
       "      <td>25</td>\n",
       "      <td>52</td>\n",
       "      <td>18</td>\n",
       "      <td>34</td>\n",
       "      <td>486</td>\n",
       "      <td>0.271605</td>\n",
       "      <td>0.109053</td>\n",
       "      <td>0.298354</td>\n",
       "      <td>36.6</td>\n",
       "      <td>0.018519</td>\n",
       "      <td>0.065844</td>\n",
       "      <td>28.1</td>\n",
       "      <td>0.034979</td>\n",
       "      <td>0.053498</td>\n",
       "      <td>65.4</td>\n",
       "      <td>0.041152</td>\n",
       "      <td>0.187243</td>\n",
       "      <td>0.228395</td>\n",
       "      <td>0.059671</td>\n",
       "      <td>0.074074</td>\n",
       "      <td>0.032922</td>\n",
       "      <td>0.022634</td>\n",
       "      <td>0.158436</td>\n",
       "      <td>0.000000</td>\n",
       "      <td>0.0</td>\n",
       "      <td>-0.246914</td>\n",
       "      <td>1</td>\n",
       "    </tr>\n",
       "    <tr>\n",
       "      <th>4</th>\n",
       "      <td>4</td>\n",
       "      <td>30</td>\n",
       "      <td>82</td>\n",
       "      <td>48</td>\n",
       "      <td>34</td>\n",
       "      <td>2631</td>\n",
       "      <td>0.474724</td>\n",
       "      <td>0.201064</td>\n",
       "      <td>0.398328</td>\n",
       "      <td>50.5</td>\n",
       "      <td>0.033447</td>\n",
       "      <td>0.097301</td>\n",
       "      <td>34.4</td>\n",
       "      <td>0.039149</td>\n",
       "      <td>0.049031</td>\n",
       "      <td>79.8</td>\n",
       "      <td>0.056252</td>\n",
       "      <td>0.170277</td>\n",
       "      <td>0.226530</td>\n",
       "      <td>0.099962</td>\n",
       "      <td>0.040669</td>\n",
       "      <td>0.025846</td>\n",
       "      <td>0.045990</td>\n",
       "      <td>0.061954</td>\n",
       "      <td>0.006461</td>\n",
       "      <td>0.0</td>\n",
       "      <td>0.087799</td>\n",
       "      <td>4</td>\n",
       "    </tr>\n",
       "  </tbody>\n",
       "</table>\n",
       "</div>"
      ],
      "text/plain": [
       "   Unnamed: 0  AGE  GP   W   L   MIN       PTS       FGM       FGA   FG%  \\\n",
       "0           0   31  69  36  33  1108  0.443141  0.169675  0.423285  40.1   \n",
       "1           1   20  78  32  46  1863  0.385937  0.147075  0.310789  47.3   \n",
       "2           2   21  21  15   6    93  0.193548  0.053763  0.204301  26.3   \n",
       "3           3   25  52  18  34   486  0.271605  0.109053  0.298354  36.6   \n",
       "4           4   30  82  48  34  2631  0.474724  0.201064  0.398328  50.5   \n",
       "\n",
       "        3PM       3PA   3P%       FTM       FTA   FT%      OREB      DREB  \\\n",
       "0  0.059567  0.166968  35.7  0.044224  0.057762  76.6  0.018953  0.072202   \n",
       "1  0.022544  0.076221  29.6  0.069243  0.103596  66.8  0.082662  0.189479   \n",
       "2  0.032258  0.107527  30.0  0.053763  0.129032  41.7  0.043011  0.118280   \n",
       "3  0.018519  0.065844  28.1  0.034979  0.053498  65.4  0.041152  0.187243   \n",
       "4  0.033447  0.097301  34.4  0.039149  0.049031  79.8  0.056252  0.170277   \n",
       "\n",
       "        REB       AST       TOV       STL       BLK        PF       DD2  TD3  \\\n",
       "0  0.091155  0.162455  0.074007  0.027076  0.009025  0.119134  0.000000  0.0   \n",
       "1  0.272142  0.068706  0.035427  0.031669  0.029522  0.082126  0.006441  0.0   \n",
       "2  0.161290  0.021505  0.043011  0.064516  0.000000  0.107527  0.000000  0.0   \n",
       "3  0.228395  0.059671  0.074074  0.032922  0.022634  0.158436  0.000000  0.0   \n",
       "4  0.226530  0.099962  0.040669  0.025846  0.045990  0.061954  0.006461  0.0   \n",
       "\n",
       "        +/-  PosicNumber  \n",
       "0 -0.009025            0  \n",
       "1 -0.040794            1  \n",
       "2 -0.075269            2  \n",
       "3 -0.246914            1  \n",
       "4  0.087799            4  "
      ]
     },
     "execution_count": 36,
     "metadata": {},
     "output_type": "execute_result"
    }
   ],
   "source": [
    "#import data\n",
    "df = pd.read_csv('../../Data/NBA_per_minute_complete_with_postions.csv')\n",
    "print \"(rows,cols) =\",df.shape\n",
    "df.head(5)"
   ]
  },
  {
   "cell_type": "code",
   "execution_count": null,
   "metadata": {
    "collapsed": true
   },
   "outputs": [],
   "source": []
  },
  {
   "cell_type": "markdown",
   "metadata": {},
   "source": [
    "<h4 class=\"alert alert-warning\">Saving positions numbers</h4>"
   ]
  },
  {
   "cell_type": "code",
   "execution_count": 37,
   "metadata": {
    "collapsed": false
   },
   "outputs": [],
   "source": [
    "actual_positions = df['PosicNumber'].values\n",
    "df = df.drop(['Unnamed: 0', 'PosicNumber'], 1)"
   ]
  },
  {
   "cell_type": "code",
   "execution_count": 38,
   "metadata": {
    "collapsed": false
   },
   "outputs": [
    {
     "data": {
      "text/html": [
       "<div>\n",
       "<table border=\"1\" class=\"dataframe\">\n",
       "  <thead>\n",
       "    <tr style=\"text-align: right;\">\n",
       "      <th></th>\n",
       "      <th>AGE</th>\n",
       "      <th>GP</th>\n",
       "      <th>W</th>\n",
       "      <th>L</th>\n",
       "      <th>MIN</th>\n",
       "      <th>PTS</th>\n",
       "      <th>FGM</th>\n",
       "      <th>FGA</th>\n",
       "      <th>FG%</th>\n",
       "      <th>3PM</th>\n",
       "      <th>3PA</th>\n",
       "      <th>3P%</th>\n",
       "      <th>FTM</th>\n",
       "      <th>FTA</th>\n",
       "      <th>FT%</th>\n",
       "      <th>OREB</th>\n",
       "      <th>DREB</th>\n",
       "      <th>REB</th>\n",
       "      <th>AST</th>\n",
       "      <th>TOV</th>\n",
       "      <th>STL</th>\n",
       "      <th>BLK</th>\n",
       "      <th>PF</th>\n",
       "      <th>DD2</th>\n",
       "      <th>TD3</th>\n",
       "      <th>+/-</th>\n",
       "    </tr>\n",
       "  </thead>\n",
       "  <tbody>\n",
       "    <tr>\n",
       "      <th>0</th>\n",
       "      <td>31</td>\n",
       "      <td>69</td>\n",
       "      <td>36</td>\n",
       "      <td>33</td>\n",
       "      <td>1108</td>\n",
       "      <td>0.443141</td>\n",
       "      <td>0.169675</td>\n",
       "      <td>0.423285</td>\n",
       "      <td>40.1</td>\n",
       "      <td>0.059567</td>\n",
       "      <td>0.166968</td>\n",
       "      <td>35.7</td>\n",
       "      <td>0.044224</td>\n",
       "      <td>0.057762</td>\n",
       "      <td>76.6</td>\n",
       "      <td>0.018953</td>\n",
       "      <td>0.072202</td>\n",
       "      <td>0.091155</td>\n",
       "      <td>0.162455</td>\n",
       "      <td>0.074007</td>\n",
       "      <td>0.027076</td>\n",
       "      <td>0.009025</td>\n",
       "      <td>0.119134</td>\n",
       "      <td>0.000000</td>\n",
       "      <td>0.0</td>\n",
       "      <td>-0.009025</td>\n",
       "    </tr>\n",
       "    <tr>\n",
       "      <th>1</th>\n",
       "      <td>20</td>\n",
       "      <td>78</td>\n",
       "      <td>32</td>\n",
       "      <td>46</td>\n",
       "      <td>1863</td>\n",
       "      <td>0.385937</td>\n",
       "      <td>0.147075</td>\n",
       "      <td>0.310789</td>\n",
       "      <td>47.3</td>\n",
       "      <td>0.022544</td>\n",
       "      <td>0.076221</td>\n",
       "      <td>29.6</td>\n",
       "      <td>0.069243</td>\n",
       "      <td>0.103596</td>\n",
       "      <td>66.8</td>\n",
       "      <td>0.082662</td>\n",
       "      <td>0.189479</td>\n",
       "      <td>0.272142</td>\n",
       "      <td>0.068706</td>\n",
       "      <td>0.035427</td>\n",
       "      <td>0.031669</td>\n",
       "      <td>0.029522</td>\n",
       "      <td>0.082126</td>\n",
       "      <td>0.006441</td>\n",
       "      <td>0.0</td>\n",
       "      <td>-0.040794</td>\n",
       "    </tr>\n",
       "    <tr>\n",
       "      <th>2</th>\n",
       "      <td>21</td>\n",
       "      <td>21</td>\n",
       "      <td>15</td>\n",
       "      <td>6</td>\n",
       "      <td>93</td>\n",
       "      <td>0.193548</td>\n",
       "      <td>0.053763</td>\n",
       "      <td>0.204301</td>\n",
       "      <td>26.3</td>\n",
       "      <td>0.032258</td>\n",
       "      <td>0.107527</td>\n",
       "      <td>30.0</td>\n",
       "      <td>0.053763</td>\n",
       "      <td>0.129032</td>\n",
       "      <td>41.7</td>\n",
       "      <td>0.043011</td>\n",
       "      <td>0.118280</td>\n",
       "      <td>0.161290</td>\n",
       "      <td>0.021505</td>\n",
       "      <td>0.043011</td>\n",
       "      <td>0.064516</td>\n",
       "      <td>0.000000</td>\n",
       "      <td>0.107527</td>\n",
       "      <td>0.000000</td>\n",
       "      <td>0.0</td>\n",
       "      <td>-0.075269</td>\n",
       "    </tr>\n",
       "    <tr>\n",
       "      <th>3</th>\n",
       "      <td>25</td>\n",
       "      <td>52</td>\n",
       "      <td>18</td>\n",
       "      <td>34</td>\n",
       "      <td>486</td>\n",
       "      <td>0.271605</td>\n",
       "      <td>0.109053</td>\n",
       "      <td>0.298354</td>\n",
       "      <td>36.6</td>\n",
       "      <td>0.018519</td>\n",
       "      <td>0.065844</td>\n",
       "      <td>28.1</td>\n",
       "      <td>0.034979</td>\n",
       "      <td>0.053498</td>\n",
       "      <td>65.4</td>\n",
       "      <td>0.041152</td>\n",
       "      <td>0.187243</td>\n",
       "      <td>0.228395</td>\n",
       "      <td>0.059671</td>\n",
       "      <td>0.074074</td>\n",
       "      <td>0.032922</td>\n",
       "      <td>0.022634</td>\n",
       "      <td>0.158436</td>\n",
       "      <td>0.000000</td>\n",
       "      <td>0.0</td>\n",
       "      <td>-0.246914</td>\n",
       "    </tr>\n",
       "    <tr>\n",
       "      <th>4</th>\n",
       "      <td>30</td>\n",
       "      <td>82</td>\n",
       "      <td>48</td>\n",
       "      <td>34</td>\n",
       "      <td>2631</td>\n",
       "      <td>0.474724</td>\n",
       "      <td>0.201064</td>\n",
       "      <td>0.398328</td>\n",
       "      <td>50.5</td>\n",
       "      <td>0.033447</td>\n",
       "      <td>0.097301</td>\n",
       "      <td>34.4</td>\n",
       "      <td>0.039149</td>\n",
       "      <td>0.049031</td>\n",
       "      <td>79.8</td>\n",
       "      <td>0.056252</td>\n",
       "      <td>0.170277</td>\n",
       "      <td>0.226530</td>\n",
       "      <td>0.099962</td>\n",
       "      <td>0.040669</td>\n",
       "      <td>0.025846</td>\n",
       "      <td>0.045990</td>\n",
       "      <td>0.061954</td>\n",
       "      <td>0.006461</td>\n",
       "      <td>0.0</td>\n",
       "      <td>0.087799</td>\n",
       "    </tr>\n",
       "  </tbody>\n",
       "</table>\n",
       "</div>"
      ],
      "text/plain": [
       "   AGE  GP   W   L   MIN       PTS       FGM       FGA   FG%       3PM  \\\n",
       "0   31  69  36  33  1108  0.443141  0.169675  0.423285  40.1  0.059567   \n",
       "1   20  78  32  46  1863  0.385937  0.147075  0.310789  47.3  0.022544   \n",
       "2   21  21  15   6    93  0.193548  0.053763  0.204301  26.3  0.032258   \n",
       "3   25  52  18  34   486  0.271605  0.109053  0.298354  36.6  0.018519   \n",
       "4   30  82  48  34  2631  0.474724  0.201064  0.398328  50.5  0.033447   \n",
       "\n",
       "        3PA   3P%       FTM       FTA   FT%      OREB      DREB       REB  \\\n",
       "0  0.166968  35.7  0.044224  0.057762  76.6  0.018953  0.072202  0.091155   \n",
       "1  0.076221  29.6  0.069243  0.103596  66.8  0.082662  0.189479  0.272142   \n",
       "2  0.107527  30.0  0.053763  0.129032  41.7  0.043011  0.118280  0.161290   \n",
       "3  0.065844  28.1  0.034979  0.053498  65.4  0.041152  0.187243  0.228395   \n",
       "4  0.097301  34.4  0.039149  0.049031  79.8  0.056252  0.170277  0.226530   \n",
       "\n",
       "        AST       TOV       STL       BLK        PF       DD2  TD3       +/-  \n",
       "0  0.162455  0.074007  0.027076  0.009025  0.119134  0.000000  0.0 -0.009025  \n",
       "1  0.068706  0.035427  0.031669  0.029522  0.082126  0.006441  0.0 -0.040794  \n",
       "2  0.021505  0.043011  0.064516  0.000000  0.107527  0.000000  0.0 -0.075269  \n",
       "3  0.059671  0.074074  0.032922  0.022634  0.158436  0.000000  0.0 -0.246914  \n",
       "4  0.099962  0.040669  0.025846  0.045990  0.061954  0.006461  0.0  0.087799  "
      ]
     },
     "execution_count": 38,
     "metadata": {},
     "output_type": "execute_result"
    }
   ],
   "source": [
    "df.head(5)"
   ]
  },
  {
   "cell_type": "markdown",
   "metadata": {},
   "source": [
    "<h4 class=\"alert alert-warning\">Scaling data</h4>"
   ]
  },
  {
   "cell_type": "code",
   "execution_count": 39,
   "metadata": {
    "collapsed": true
   },
   "outputs": [],
   "source": [
    "cols = df.columns\n",
    "df = sk.preprocessing.scale(df)\n",
    "df = pd.DataFrame(df, columns=cols)"
   ]
  },
  {
   "cell_type": "markdown",
   "metadata": {},
   "source": [
    "<div class=\"alert alert-success\">\n",
    "    <h2>\n",
    "        Feature Selection\n",
    "    </h2>\n",
    "</div>\n",
    "<h4 class=\"alert alert-warning\">We remind the sets of selected features and build sub-dataframes for each of them</h4>"
   ]
  },
  {
   "cell_type": "code",
   "execution_count": 40,
   "metadata": {
    "collapsed": true
   },
   "outputs": [],
   "source": [
    "laplacian_score_features = [u'TD3', u'3PM', u'3P%', u'PTS', u'FGM', u'3PA', u'FG%']\n",
    "spec_features = [u'+/-', u'PF', u'STL', u'AGE', u'BLK', u'OREB', u'TOV']\n",
    "mcfs_features = [u'OREB', u'DREB', u'STL', u'3PA', u'PF', u'+/-', u'AGE']\n",
    "papers_features = ['REB','AST','TOV','STL','BLK','PF','PTS']"
   ]
  },
  {
   "cell_type": "code",
   "execution_count": 41,
   "metadata": {
    "collapsed": true
   },
   "outputs": [],
   "source": [
    "laplacian_df = df[laplacian_score_features]\n",
    "spec_df = df[spec_features]\n",
    "mcfs_df = df[mcfs_features]\n",
    "papers_df = df[papers_features]"
   ]
  },
  {
   "cell_type": "markdown",
   "metadata": {},
   "source": [
    "<div class=\"alert alert-success\">\n",
    "    <h2>\n",
    "        Clustering Analysis\n",
    "    </h2>\n",
    "</div>"
   ]
  },
  {
   "cell_type": "markdown",
   "metadata": {},
   "source": [
    "<h4 class=\"alert alert-warning\">1 - KMeans</h4>"
   ]
  },
  {
   "cell_type": "code",
   "execution_count": 42,
   "metadata": {
    "collapsed": true
   },
   "outputs": [],
   "source": [
    "from sklearn.cluster import KMeans\n",
    "def getKMeansLabels(df):\n",
    "    estimator = KMeans(n_clusters=5)\n",
    "    estimator.fit(df)\n",
    "    return estimator.labels_"
   ]
  },
  {
   "cell_type": "code",
   "execution_count": 47,
   "metadata": {
    "collapsed": true
   },
   "outputs": [],
   "source": [
    "labels_set = {}\n",
    "labels_set['Laplacian - KMeans'] = getKMeansLabels(laplacian_df)\n",
    "labels_set['SPEC - KMeans'] = getKMeansLabels(spec_df)\n",
    "labels_set['MCFS - KMeans'] = getKMeansLabels(mcfs_df)\n",
    "labels_set['Paper - KMeans'] = getKMeansLabels(papers_df)"
   ]
  },
  {
   "cell_type": "markdown",
   "metadata": {},
   "source": [
    "<h4 class=\"alert alert-warning\">1.1 - Compute scores</h4>"
   ]
  },
  {
   "cell_type": "code",
   "execution_count": 45,
   "metadata": {
    "collapsed": true
   },
   "outputs": [],
   "source": [
    "from sklearn.metrics.cluster import adjusted_rand_score\n",
    "from sklearn.metrics import silhouette_score"
   ]
  },
  {
   "cell_type": "code",
   "execution_count": 53,
   "metadata": {
    "collapsed": false
   },
   "outputs": [
    {
     "name": "stdout",
     "output_type": "stream",
     "text": [
      "Random Index scores:\n",
      "SPEC - KMeans 0.00802981225864\n",
      "Paper - KMeans 0.0106256045715\n",
      "MCFS - KMeans 0.0174988186932\n",
      "Laplacian - KMeans 0.00761106465405\n"
     ]
    }
   ],
   "source": [
    "print \"Random Index scores:\"\n",
    "for k,v in labels_set.iteritems():\n",
    "    print k, adjusted_rand_score(v, actual_positions)"
   ]
  },
  {
   "cell_type": "code",
   "execution_count": 56,
   "metadata": {
    "collapsed": false
   },
   "outputs": [
    {
     "name": "stdout",
     "output_type": "stream",
     "text": [
      "Silhouette scores:\n",
      "SPEC - KMeans 0.0531430638849\n",
      "Paper - KMeans 0.102402988768\n",
      "MCFS - KMeans 0.0684978948198\n",
      "Laplacian - KMeans 0.0939830188223\n"
     ]
    }
   ],
   "source": [
    "print \"Silhouette scores:\"\n",
    "for k, v in labels_set.iteritems():\n",
    "    print k, silhouette_score(df, v)"
   ]
  },
  {
   "cell_type": "markdown",
   "metadata": {},
   "source": [
    "<h4 class=\"alert alert-warning\">2 - Agglomerative Clustering</h4>"
   ]
  },
  {
   "cell_type": "code",
   "execution_count": null,
   "metadata": {
    "collapsed": true
   },
   "outputs": [],
   "source": [
    "from sklearn.cluster import KMeans\n",
    "def getKMeansLabels(df):\n",
    "    estimator = KMeans(n_clusters=5)\n",
    "    estimator.fit(df)\n",
    "    return estimator.labels_"
   ]
  },
  {
   "cell_type": "code",
   "execution_count": null,
   "metadata": {
    "collapsed": true
   },
   "outputs": [],
   "source": []
  },
  {
   "cell_type": "code",
   "execution_count": 59,
   "metadata": {
    "collapsed": false
   },
   "outputs": [
    {
     "name": "stdout",
     "output_type": "stream",
     "text": [
      "[ 0.21715565  0.20894822  0.10227063  0.07640689  0.05252312  0.04947878\n",
      "  0.04088595  0.03512781  0.03143335  0.02955904]\n",
      "variance sum = 0.843789435218\n"
     ]
    }
   ],
   "source": [
    "pca = sk.decomposition.PCA(n_components=10, whiten=True)\n",
    "df_red = pca.fit_transform(df)\n",
    "\n",
    "print pca.explained_variance_ratio_\n",
    "print \"variance sum =\",sum(pca.explained_variance_ratio_)"
   ]
  },
  {
   "cell_type": "code",
   "execution_count": 63,
   "metadata": {
    "collapsed": false
   },
   "outputs": [
    {
     "data": {
      "text/plain": [
       "<mpl_toolkits.mplot3d.art3d.Path3DCollection at 0xa1ace10>"
      ]
     },
     "execution_count": 63,
     "metadata": {},
     "output_type": "execute_result"
    },
    {
     "data": {
      "image/png": "[encoded data removed]",
      "text/plain": [
       "<matplotlib.figure.Figure at 0xb86f908>"
      ]
     },
     "metadata": {},
     "output_type": "display_data"
    }
   ],
   "source": [
    "fig = plt.figure(1, figsize=(4, 3))\n",
    "ax = Axes3D(fig, rect=[0, 0, .95, 1], elev=48, azim=134)\n",
    "ax.scatter(df_red[:, 0], df_red[:, 1], df_red[:, 2], c=actual_positions)"
   ]
  },
  {
   "cell_type": "code",
   "execution_count": 61,
   "metadata": {
    "collapsed": false
   },
   "outputs": [
    {
     "name": "stdout",
     "output_type": "stream",
     "text": [
      "C:\\Users\\henrique\\Desktop\\Polytechnique\\3rd year\\Projet 3A\\Shared Folder\\TDA-NBA\\notebooks\\Clustering\n"
     ]
    }
   ],
   "source": [
    "import pandas as pd\n",
    "import numpy as np\n",
    "import os\n",
    "print os.getcwd();\n",
    "\n",
    "# import libraries for visualization\n",
    "%matplotlib inline\n",
    "import matplotlib.pyplot as plt\n",
    "from mpl_toolkits.mplot3d import Axes3D\n",
    "import pylab\n",
    "\n",
    "#import libraries for features decomposition\n",
    "import sklearn as sk\n",
    "from sklearn.preprocessing import scale\n",
    "from sklearn.decomposition import PCA"
   ]
  },
  {
   "cell_type": "code",
   "execution_count": 66,
   "metadata": {
    "collapsed": false
   },
   "outputs": [
    {
     "data": {
      "text/plain": [
       "[' PG', ' PF', ' SG', ' SF', ' C']"
      ]
     },
     "execution_count": 66,
     "metadata": {},
     "output_type": "execute_result"
    }
   ],
   "source": [
    "statesN = [1,2,3,4,5]\n",
    "states = [invdict[x] for x in statesN]\n",
    "states"
   ]
  },
  {
   "cell_type": "code",
   "execution_count": 65,
   "metadata": {
    "collapsed": true
   },
   "outputs": [],
   "source": [
    "dict = {' PG': 1, ' PF': 2, ' SG' : 3, ' SF' : 4, ' C' : 5}\n",
    "invdict = {v: k for k, v in dict.iteritems()}"
   ]
  },
  {
   "cell_type": "code",
   "execution_count": 69,
   "metadata": {
    "collapsed": false
   },
   "outputs": [
    {
     "data": {
      "image/png": "[encoded data removed]",
      "text/plain": [
       "<matplotlib.figure.Figure at 0xba3df98>"
      ]
     },
     "metadata": {},
     "output_type": "display_data"
    },
    {
     "data": {
      "text/plain": [
       "<Container object of 10 artists>"
      ]
     },
     "execution_count": 69,
     "metadata": {},
     "output_type": "execute_result"
    },
    {
     "data": {
      "image/png": "[encoded data removed]",
      "text/plain": [
       "<matplotlib.figure.Figure at 0xeb268d0>"
      ]
     },
     "metadata": {},
     "output_type": "display_data"
    }
   ],
   "source": [
    "import matplotlib.patches as mpatches\n",
    "pylab.title(\"Performing PCA\\nAll players taken into account\")\n",
    "pylab.xlabel(\"Dim 1\")\n",
    "pylab.ylabel(\"Dim 2\")\n",
    "#pylab.scatter(df_red[:, 0], df_red[:, 1], c=position_labels)\n",
    "\n",
    "states = [invdict[x] for x in [1,2,3,4,5]]\n",
    "for i,l in enumerate(states):\n",
    "    x = []\n",
    "    y = []\n",
    "    for j,_ in enumerate(df_red[:, 0]):\n",
    "        if actual_positions[j] == i+1:\n",
    "            x.append(df_red[j,0])\n",
    "            y.append(df_red[j,1])\n",
    "    pylab.scatter(x,y,label=l,color = np.random.rand(3,1) )\n",
    "\n",
    "pylab.legend(loc='upper center', bbox_to_anchor=(1.05, .4) ,scatterpoints = 1)\n",
    "pylab.show()\n",
    "\n",
    "\n",
    "pylab.title(\"Explained variance ratio\\nAll players taken into account\") \n",
    "pylab.xlabel(\"Dim 1\")\n",
    "pylab.ylabel(\"Dim 2\")\n",
    "pylab.ylim(0,.45)\n",
    "x_axis =[x+.5 for x in range(len(pca.explained_variance_ratio_))]\n",
    "pylab.bar(x_axis,pca.explained_variance_ratio_)"
   ]
  },
  {
   "cell_type": "code",
   "execution_count": null,
   "metadata": {
    "collapsed": true
   },
   "outputs": [],
   "source": []
  }
 ],
 "metadata": {
  "kernelspec": {
   "display_name": "Python 2",
   "language": "python",
   "name": "python2"
  },
  "language_info": {
   "codemirror_mode": {
    "name": "ipython",
    "version": 2
   },
   "file_extension": ".py",
   "mimetype": "text/x-python",
   "name": "python",
   "nbconvert_exporter": "python",
   "pygments_lexer": "ipython2",
   "version": "2.7.12"
  }
 },
 "nbformat": 4,
 "nbformat_minor": 0
}

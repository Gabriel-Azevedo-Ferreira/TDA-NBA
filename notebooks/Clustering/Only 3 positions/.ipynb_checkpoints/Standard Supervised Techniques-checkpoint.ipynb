{
 "cells": [
  {
   "cell_type": "markdown",
   "metadata": {
    "collapsed": true
   },
   "source": [
    "<div class = \"page-header\">\n",
    "    <h1 class = \"alert alert-info\">\n",
    "    Standard Supervised Techniques<br/>\n",
    "    <small>\n",
    "        Henrique Gasparini Fiuza do Nascimento - started: 07/03/2017<br/>\n",
    "    </small>\n",
    "    </h1> \n",
    "</div>"
   ]
  },
  {
   "cell_type": "markdown",
   "metadata": {},
   "source": [
    "<div class=\"alert alert-success\">\n",
    "    <h2>\n",
    "        Imports\n",
    "    </h2>\n",
    "</div>\n",
    "<h4 class=\"alert alert-warning\">Importing libraries and checking working directory</h4>"
   ]
  },
  {
   "cell_type": "code",
   "execution_count": 2,
   "metadata": {
    "collapsed": true
   },
   "outputs": [],
   "source": [
    "import pandas as pd\n",
    "import numpy as np\n",
    "\n",
    "# import libraries for visualization\n",
    "%matplotlib inline\n",
    "import matplotlib.pyplot as plt\n",
    "from mpl_toolkits.mplot3d import Axes3D\n",
    "import pylab\n",
    "\n",
    "\n",
    "#import libraries for features decomposition\n",
    "import sklearn as sk\n",
    "from sklearn.preprocessing import scale\n",
    "from sklearn.decomposition import PCA\n",
    "\n",
    "#Visualization param\n",
    "pd.options.display.max_columns = None\n",
    "pd.options.display.max_rows = None"
   ]
  },
  {
   "cell_type": "markdown",
   "metadata": {},
   "source": [
    "<h4 class=\"alert alert-warning\">Actually importing the data</h4>"
   ]
  },
  {
   "cell_type": "code",
   "execution_count": 6,
   "metadata": {
    "collapsed": false
   },
   "outputs": [
    {
     "name": "stdout",
     "output_type": "stream",
     "text": [
      "(rows,cols) = (476, 31)\n"
     ]
    },
    {
     "data": {
      "text/html": [
       "<div>\n",
       "<table border=\"1\" class=\"dataframe\">\n",
       "  <thead>\n",
       "    <tr style=\"text-align: right;\">\n",
       "      <th></th>\n",
       "      <th>Unnamed: 0</th>\n",
       "      <th>Player</th>\n",
       "      <th>TEAM</th>\n",
       "      <th>AGE</th>\n",
       "      <th>GP</th>\n",
       "      <th>W</th>\n",
       "      <th>L</th>\n",
       "      <th>MIN</th>\n",
       "      <th>FGM</th>\n",
       "      <th>FGA</th>\n",
       "      <th>FG%</th>\n",
       "      <th>03:00:00 PM</th>\n",
       "      <th>3PA</th>\n",
       "      <th>3P%</th>\n",
       "      <th>FTM</th>\n",
       "      <th>FTA</th>\n",
       "      <th>FT%</th>\n",
       "      <th>OREB</th>\n",
       "      <th>DREB</th>\n",
       "      <th>REB</th>\n",
       "      <th>AST</th>\n",
       "      <th>TOV</th>\n",
       "      <th>STL</th>\n",
       "      <th>BLK</th>\n",
       "      <th>PF</th>\n",
       "      <th>DD2</th>\n",
       "      <th>TD3</th>\n",
       "      <th>PTS</th>\n",
       "      <th>+/-</th>\n",
       "      <th>PosicAbbrev</th>\n",
       "      <th>SALARY</th>\n",
       "    </tr>\n",
       "  </thead>\n",
       "  <tbody>\n",
       "    <tr>\n",
       "      <th>0</th>\n",
       "      <td>0</td>\n",
       "      <td>Aaron Brooks</td>\n",
       "      <td>CHI</td>\n",
       "      <td>31</td>\n",
       "      <td>69</td>\n",
       "      <td>36</td>\n",
       "      <td>33</td>\n",
       "      <td>16.1</td>\n",
       "      <td>2.7</td>\n",
       "      <td>6.8</td>\n",
       "      <td>40.1</td>\n",
       "      <td>1.0</td>\n",
       "      <td>2.7</td>\n",
       "      <td>35.7</td>\n",
       "      <td>0.7</td>\n",
       "      <td>0.9</td>\n",
       "      <td>76.6</td>\n",
       "      <td>0.3</td>\n",
       "      <td>1.2</td>\n",
       "      <td>1.5</td>\n",
       "      <td>2.6</td>\n",
       "      <td>1.2</td>\n",
       "      <td>0.4</td>\n",
       "      <td>0.1</td>\n",
       "      <td>1.9</td>\n",
       "      <td>0</td>\n",
       "      <td>0</td>\n",
       "      <td>7.1</td>\n",
       "      <td>-0.1</td>\n",
       "      <td>PG</td>\n",
       "      <td>2250000</td>\n",
       "    </tr>\n",
       "    <tr>\n",
       "      <th>1</th>\n",
       "      <td>1</td>\n",
       "      <td>Aaron Gordon</td>\n",
       "      <td>ORL</td>\n",
       "      <td>20</td>\n",
       "      <td>78</td>\n",
       "      <td>32</td>\n",
       "      <td>46</td>\n",
       "      <td>23.9</td>\n",
       "      <td>3.5</td>\n",
       "      <td>7.4</td>\n",
       "      <td>47.3</td>\n",
       "      <td>0.5</td>\n",
       "      <td>1.8</td>\n",
       "      <td>29.6</td>\n",
       "      <td>1.7</td>\n",
       "      <td>2.5</td>\n",
       "      <td>66.8</td>\n",
       "      <td>2.0</td>\n",
       "      <td>4.5</td>\n",
       "      <td>6.5</td>\n",
       "      <td>1.6</td>\n",
       "      <td>0.8</td>\n",
       "      <td>0.8</td>\n",
       "      <td>0.7</td>\n",
       "      <td>2.0</td>\n",
       "      <td>12</td>\n",
       "      <td>0</td>\n",
       "      <td>9.2</td>\n",
       "      <td>-1.0</td>\n",
       "      <td>PF</td>\n",
       "      <td>4171680</td>\n",
       "    </tr>\n",
       "    <tr>\n",
       "      <th>2</th>\n",
       "      <td>2</td>\n",
       "      <td>Aaron Harrison</td>\n",
       "      <td>CHA</td>\n",
       "      <td>21</td>\n",
       "      <td>21</td>\n",
       "      <td>15</td>\n",
       "      <td>6</td>\n",
       "      <td>4.4</td>\n",
       "      <td>0.2</td>\n",
       "      <td>0.9</td>\n",
       "      <td>26.3</td>\n",
       "      <td>0.1</td>\n",
       "      <td>0.5</td>\n",
       "      <td>30.0</td>\n",
       "      <td>0.2</td>\n",
       "      <td>0.6</td>\n",
       "      <td>41.7</td>\n",
       "      <td>0.2</td>\n",
       "      <td>0.5</td>\n",
       "      <td>0.7</td>\n",
       "      <td>0.1</td>\n",
       "      <td>0.2</td>\n",
       "      <td>0.3</td>\n",
       "      <td>0.0</td>\n",
       "      <td>0.5</td>\n",
       "      <td>0</td>\n",
       "      <td>0</td>\n",
       "      <td>0.9</td>\n",
       "      <td>-0.3</td>\n",
       "      <td>SG</td>\n",
       "      <td>525093</td>\n",
       "    </tr>\n",
       "    <tr>\n",
       "      <th>3</th>\n",
       "      <td>3</td>\n",
       "      <td>Adreian Payne</td>\n",
       "      <td>MIN</td>\n",
       "      <td>25</td>\n",
       "      <td>52</td>\n",
       "      <td>18</td>\n",
       "      <td>34</td>\n",
       "      <td>9.3</td>\n",
       "      <td>1.0</td>\n",
       "      <td>2.8</td>\n",
       "      <td>36.6</td>\n",
       "      <td>0.2</td>\n",
       "      <td>0.6</td>\n",
       "      <td>28.1</td>\n",
       "      <td>0.3</td>\n",
       "      <td>0.5</td>\n",
       "      <td>65.4</td>\n",
       "      <td>0.4</td>\n",
       "      <td>1.8</td>\n",
       "      <td>2.1</td>\n",
       "      <td>0.6</td>\n",
       "      <td>0.7</td>\n",
       "      <td>0.3</td>\n",
       "      <td>0.2</td>\n",
       "      <td>1.5</td>\n",
       "      <td>0</td>\n",
       "      <td>0</td>\n",
       "      <td>2.5</td>\n",
       "      <td>-2.3</td>\n",
       "      <td>PF</td>\n",
       "      <td>1938840</td>\n",
       "    </tr>\n",
       "    <tr>\n",
       "      <th>4</th>\n",
       "      <td>4</td>\n",
       "      <td>Al Horford</td>\n",
       "      <td>ATL</td>\n",
       "      <td>30</td>\n",
       "      <td>82</td>\n",
       "      <td>48</td>\n",
       "      <td>34</td>\n",
       "      <td>32.1</td>\n",
       "      <td>6.5</td>\n",
       "      <td>12.8</td>\n",
       "      <td>50.5</td>\n",
       "      <td>1.1</td>\n",
       "      <td>3.1</td>\n",
       "      <td>34.4</td>\n",
       "      <td>1.3</td>\n",
       "      <td>1.6</td>\n",
       "      <td>79.8</td>\n",
       "      <td>1.8</td>\n",
       "      <td>5.5</td>\n",
       "      <td>7.3</td>\n",
       "      <td>3.2</td>\n",
       "      <td>1.3</td>\n",
       "      <td>0.8</td>\n",
       "      <td>1.5</td>\n",
       "      <td>2.0</td>\n",
       "      <td>17</td>\n",
       "      <td>0</td>\n",
       "      <td>15.2</td>\n",
       "      <td>2.8</td>\n",
       "      <td>C</td>\n",
       "      <td>12000000</td>\n",
       "    </tr>\n",
       "  </tbody>\n",
       "</table>\n",
       "</div>"
      ],
      "text/plain": [
       "   Unnamed: 0          Player TEAM  AGE  GP   W   L   MIN  FGM   FGA   FG%  \\\n",
       "0           0    Aaron Brooks  CHI   31  69  36  33  16.1  2.7   6.8  40.1   \n",
       "1           1    Aaron Gordon  ORL   20  78  32  46  23.9  3.5   7.4  47.3   \n",
       "2           2  Aaron Harrison  CHA   21  21  15   6   4.4  0.2   0.9  26.3   \n",
       "3           3   Adreian Payne  MIN   25  52  18  34   9.3  1.0   2.8  36.6   \n",
       "4           4      Al Horford  ATL   30  82  48  34  32.1  6.5  12.8  50.5   \n",
       "\n",
       "   03:00:00 PM  3PA   3P%  FTM  FTA   FT%  OREB  DREB  REB  AST  TOV  STL  \\\n",
       "0          1.0  2.7  35.7  0.7  0.9  76.6   0.3   1.2  1.5  2.6  1.2  0.4   \n",
       "1          0.5  1.8  29.6  1.7  2.5  66.8   2.0   4.5  6.5  1.6  0.8  0.8   \n",
       "2          0.1  0.5  30.0  0.2  0.6  41.7   0.2   0.5  0.7  0.1  0.2  0.3   \n",
       "3          0.2  0.6  28.1  0.3  0.5  65.4   0.4   1.8  2.1  0.6  0.7  0.3   \n",
       "4          1.1  3.1  34.4  1.3  1.6  79.8   1.8   5.5  7.3  3.2  1.3  0.8   \n",
       "\n",
       "   BLK   PF  DD2  TD3   PTS  +/- PosicAbbrev    SALARY  \n",
       "0  0.1  1.9    0    0   7.1 -0.1          PG   2250000  \n",
       "1  0.7  2.0   12    0   9.2 -1.0          PF   4171680  \n",
       "2  0.0  0.5    0    0   0.9 -0.3          SG    525093  \n",
       "3  0.2  1.5    0    0   2.5 -2.3          PF   1938840  \n",
       "4  1.5  2.0   17    0  15.2  2.8           C  12000000  "
      ]
     },
     "execution_count": 6,
     "metadata": {},
     "output_type": "execute_result"
    }
   ],
   "source": [
    "#import data\n",
    "df = pd.read_csv('../../../Data/NBA-data-With-Positions.csv')\n",
    "print \"(rows,cols) =\",df.shape\n",
    "df.head(5)"
   ]
  },
  {
   "cell_type": "code",
   "execution_count": 7,
   "metadata": {
    "collapsed": false
   },
   "outputs": [
    {
     "data": {
      "text/html": [
       "<div>\n",
       "<table border=\"1\" class=\"dataframe\">\n",
       "  <thead>\n",
       "    <tr style=\"text-align: right;\">\n",
       "      <th></th>\n",
       "      <th>Unnamed: 0</th>\n",
       "      <th>AGE</th>\n",
       "      <th>GP</th>\n",
       "      <th>W</th>\n",
       "      <th>L</th>\n",
       "      <th>MIN</th>\n",
       "      <th>FGM</th>\n",
       "      <th>FGA</th>\n",
       "      <th>FG%</th>\n",
       "      <th>03:00:00 PM</th>\n",
       "      <th>3PA</th>\n",
       "      <th>3P%</th>\n",
       "      <th>FTM</th>\n",
       "      <th>FTA</th>\n",
       "      <th>FT%</th>\n",
       "      <th>OREB</th>\n",
       "      <th>DREB</th>\n",
       "      <th>REB</th>\n",
       "      <th>AST</th>\n",
       "      <th>TOV</th>\n",
       "      <th>STL</th>\n",
       "      <th>BLK</th>\n",
       "      <th>PF</th>\n",
       "      <th>DD2</th>\n",
       "      <th>TD3</th>\n",
       "      <th>PTS</th>\n",
       "      <th>+/-</th>\n",
       "      <th>SALARY</th>\n",
       "    </tr>\n",
       "  </thead>\n",
       "  <tbody>\n",
       "    <tr>\n",
       "      <th>count</th>\n",
       "      <td>476.000000</td>\n",
       "      <td>476.000000</td>\n",
       "      <td>476.000000</td>\n",
       "      <td>476.000000</td>\n",
       "      <td>476.000000</td>\n",
       "      <td>476.000000</td>\n",
       "      <td>476.000000</td>\n",
       "      <td>476.000000</td>\n",
       "      <td>476.000000</td>\n",
       "      <td>476.000000</td>\n",
       "      <td>476.000000</td>\n",
       "      <td>476.000000</td>\n",
       "      <td>476.000000</td>\n",
       "      <td>476.000000</td>\n",
       "      <td>476.000000</td>\n",
       "      <td>476.000000</td>\n",
       "      <td>476.000000</td>\n",
       "      <td>476.000000</td>\n",
       "      <td>476.000000</td>\n",
       "      <td>476.000000</td>\n",
       "      <td>476.000000</td>\n",
       "      <td>476.000000</td>\n",
       "      <td>476.000000</td>\n",
       "      <td>476.000000</td>\n",
       "      <td>476.000000</td>\n",
       "      <td>476.000000</td>\n",
       "      <td>476.000000</td>\n",
       "      <td>4.760000e+02</td>\n",
       "    </tr>\n",
       "    <tr>\n",
       "      <th>mean</th>\n",
       "      <td>237.500000</td>\n",
       "      <td>27.052521</td>\n",
       "      <td>54.785714</td>\n",
       "      <td>27.464286</td>\n",
       "      <td>27.321429</td>\n",
       "      <td>20.157773</td>\n",
       "      <td>3.113235</td>\n",
       "      <td>6.951681</td>\n",
       "      <td>44.315966</td>\n",
       "      <td>0.688025</td>\n",
       "      <td>1.963655</td>\n",
       "      <td>27.020588</td>\n",
       "      <td>1.434874</td>\n",
       "      <td>1.911555</td>\n",
       "      <td>71.973319</td>\n",
       "      <td>0.870378</td>\n",
       "      <td>2.754832</td>\n",
       "      <td>3.620588</td>\n",
       "      <td>1.826261</td>\n",
       "      <td>1.146849</td>\n",
       "      <td>0.653361</td>\n",
       "      <td>0.415126</td>\n",
       "      <td>1.744538</td>\n",
       "      <td>4.424370</td>\n",
       "      <td>0.157563</td>\n",
       "      <td>8.349370</td>\n",
       "      <td>-0.399790</td>\n",
       "      <td>4.804590e+06</td>\n",
       "    </tr>\n",
       "    <tr>\n",
       "      <th>std</th>\n",
       "      <td>137.553626</td>\n",
       "      <td>4.407574</td>\n",
       "      <td>24.274576</td>\n",
       "      <td>16.478017</td>\n",
       "      <td>15.219228</td>\n",
       "      <td>9.223976</td>\n",
       "      <td>2.053724</td>\n",
       "      <td>4.420890</td>\n",
       "      <td>8.783619</td>\n",
       "      <td>0.713570</td>\n",
       "      <td>1.862574</td>\n",
       "      <td>16.227345</td>\n",
       "      <td>1.307888</td>\n",
       "      <td>1.652358</td>\n",
       "      <td>17.903679</td>\n",
       "      <td>0.775428</td>\n",
       "      <td>1.769210</td>\n",
       "      <td>2.407671</td>\n",
       "      <td>1.756553</td>\n",
       "      <td>0.782957</td>\n",
       "      <td>0.438861</td>\n",
       "      <td>0.448180</td>\n",
       "      <td>0.742706</td>\n",
       "      <td>9.506151</td>\n",
       "      <td>1.136183</td>\n",
       "      <td>5.652556</td>\n",
       "      <td>3.077754</td>\n",
       "      <td>5.311455e+06</td>\n",
       "    </tr>\n",
       "    <tr>\n",
       "      <th>min</th>\n",
       "      <td>0.000000</td>\n",
       "      <td>19.000000</td>\n",
       "      <td>1.000000</td>\n",
       "      <td>0.000000</td>\n",
       "      <td>0.000000</td>\n",
       "      <td>1.900000</td>\n",
       "      <td>0.000000</td>\n",
       "      <td>0.000000</td>\n",
       "      <td>0.000000</td>\n",
       "      <td>0.000000</td>\n",
       "      <td>0.000000</td>\n",
       "      <td>0.000000</td>\n",
       "      <td>0.000000</td>\n",
       "      <td>0.000000</td>\n",
       "      <td>0.000000</td>\n",
       "      <td>0.000000</td>\n",
       "      <td>0.000000</td>\n",
       "      <td>0.000000</td>\n",
       "      <td>0.000000</td>\n",
       "      <td>0.000000</td>\n",
       "      <td>0.000000</td>\n",
       "      <td>0.000000</td>\n",
       "      <td>0.000000</td>\n",
       "      <td>0.000000</td>\n",
       "      <td>0.000000</td>\n",
       "      <td>0.000000</td>\n",
       "      <td>-10.000000</td>\n",
       "      <td>3.088800e+04</td>\n",
       "    </tr>\n",
       "    <tr>\n",
       "      <th>25%</th>\n",
       "      <td>118.750000</td>\n",
       "      <td>24.000000</td>\n",
       "      <td>37.000000</td>\n",
       "      <td>14.000000</td>\n",
       "      <td>15.000000</td>\n",
       "      <td>13.000000</td>\n",
       "      <td>1.500000</td>\n",
       "      <td>3.500000</td>\n",
       "      <td>40.400000</td>\n",
       "      <td>0.100000</td>\n",
       "      <td>0.300000</td>\n",
       "      <td>20.000000</td>\n",
       "      <td>0.575000</td>\n",
       "      <td>0.800000</td>\n",
       "      <td>66.700000</td>\n",
       "      <td>0.300000</td>\n",
       "      <td>1.500000</td>\n",
       "      <td>1.900000</td>\n",
       "      <td>0.675000</td>\n",
       "      <td>0.600000</td>\n",
       "      <td>0.300000</td>\n",
       "      <td>0.100000</td>\n",
       "      <td>1.200000</td>\n",
       "      <td>0.000000</td>\n",
       "      <td>0.000000</td>\n",
       "      <td>4.000000</td>\n",
       "      <td>-2.000000</td>\n",
       "      <td>1.140240e+06</td>\n",
       "    </tr>\n",
       "    <tr>\n",
       "      <th>50%</th>\n",
       "      <td>237.500000</td>\n",
       "      <td>26.000000</td>\n",
       "      <td>62.000000</td>\n",
       "      <td>28.000000</td>\n",
       "      <td>28.000000</td>\n",
       "      <td>19.950000</td>\n",
       "      <td>2.700000</td>\n",
       "      <td>5.950000</td>\n",
       "      <td>43.900000</td>\n",
       "      <td>0.500000</td>\n",
       "      <td>1.500000</td>\n",
       "      <td>32.350000</td>\n",
       "      <td>1.000000</td>\n",
       "      <td>1.400000</td>\n",
       "      <td>75.400000</td>\n",
       "      <td>0.600000</td>\n",
       "      <td>2.350000</td>\n",
       "      <td>3.100000</td>\n",
       "      <td>1.300000</td>\n",
       "      <td>0.900000</td>\n",
       "      <td>0.600000</td>\n",
       "      <td>0.300000</td>\n",
       "      <td>1.800000</td>\n",
       "      <td>0.000000</td>\n",
       "      <td>0.000000</td>\n",
       "      <td>7.000000</td>\n",
       "      <td>-0.500000</td>\n",
       "      <td>2.614748e+06</td>\n",
       "    </tr>\n",
       "    <tr>\n",
       "      <th>75%</th>\n",
       "      <td>356.250000</td>\n",
       "      <td>30.000000</td>\n",
       "      <td>76.000000</td>\n",
       "      <td>40.000000</td>\n",
       "      <td>38.000000</td>\n",
       "      <td>28.025000</td>\n",
       "      <td>4.400000</td>\n",
       "      <td>9.600000</td>\n",
       "      <td>48.200000</td>\n",
       "      <td>1.100000</td>\n",
       "      <td>3.125000</td>\n",
       "      <td>36.725000</td>\n",
       "      <td>1.900000</td>\n",
       "      <td>2.600000</td>\n",
       "      <td>82.600000</td>\n",
       "      <td>1.200000</td>\n",
       "      <td>3.600000</td>\n",
       "      <td>4.800000</td>\n",
       "      <td>2.325000</td>\n",
       "      <td>1.500000</td>\n",
       "      <td>0.900000</td>\n",
       "      <td>0.500000</td>\n",
       "      <td>2.200000</td>\n",
       "      <td>4.000000</td>\n",
       "      <td>0.000000</td>\n",
       "      <td>11.625000</td>\n",
       "      <td>1.100000</td>\n",
       "      <td>6.277500e+06</td>\n",
       "    </tr>\n",
       "    <tr>\n",
       "      <th>max</th>\n",
       "      <td>475.000000</td>\n",
       "      <td>40.000000</td>\n",
       "      <td>82.000000</td>\n",
       "      <td>73.000000</td>\n",
       "      <td>71.000000</td>\n",
       "      <td>42.400000</td>\n",
       "      <td>10.200000</td>\n",
       "      <td>20.500000</td>\n",
       "      <td>100.000000</td>\n",
       "      <td>5.100000</td>\n",
       "      <td>11.200000</td>\n",
       "      <td>100.000000</td>\n",
       "      <td>8.800000</td>\n",
       "      <td>10.200000</td>\n",
       "      <td>100.000000</td>\n",
       "      <td>4.900000</td>\n",
       "      <td>10.300000</td>\n",
       "      <td>14.800000</td>\n",
       "      <td>11.700000</td>\n",
       "      <td>4.600000</td>\n",
       "      <td>2.100000</td>\n",
       "      <td>3.700000</td>\n",
       "      <td>6.000000</td>\n",
       "      <td>66.000000</td>\n",
       "      <td>18.000000</td>\n",
       "      <td>30.100000</td>\n",
       "      <td>13.200000</td>\n",
       "      <td>2.500000e+07</td>\n",
       "    </tr>\n",
       "  </tbody>\n",
       "</table>\n",
       "</div>"
      ],
      "text/plain": [
       "       Unnamed: 0         AGE          GP           W           L         MIN  \\\n",
       "count  476.000000  476.000000  476.000000  476.000000  476.000000  476.000000   \n",
       "mean   237.500000   27.052521   54.785714   27.464286   27.321429   20.157773   \n",
       "std    137.553626    4.407574   24.274576   16.478017   15.219228    9.223976   \n",
       "min      0.000000   19.000000    1.000000    0.000000    0.000000    1.900000   \n",
       "25%    118.750000   24.000000   37.000000   14.000000   15.000000   13.000000   \n",
       "50%    237.500000   26.000000   62.000000   28.000000   28.000000   19.950000   \n",
       "75%    356.250000   30.000000   76.000000   40.000000   38.000000   28.025000   \n",
       "max    475.000000   40.000000   82.000000   73.000000   71.000000   42.400000   \n",
       "\n",
       "              FGM         FGA         FG%  03:00:00 PM         3PA  \\\n",
       "count  476.000000  476.000000  476.000000   476.000000  476.000000   \n",
       "mean     3.113235    6.951681   44.315966     0.688025    1.963655   \n",
       "std      2.053724    4.420890    8.783619     0.713570    1.862574   \n",
       "min      0.000000    0.000000    0.000000     0.000000    0.000000   \n",
       "25%      1.500000    3.500000   40.400000     0.100000    0.300000   \n",
       "50%      2.700000    5.950000   43.900000     0.500000    1.500000   \n",
       "75%      4.400000    9.600000   48.200000     1.100000    3.125000   \n",
       "max     10.200000   20.500000  100.000000     5.100000   11.200000   \n",
       "\n",
       "              3P%         FTM         FTA         FT%        OREB        DREB  \\\n",
       "count  476.000000  476.000000  476.000000  476.000000  476.000000  476.000000   \n",
       "mean    27.020588    1.434874    1.911555   71.973319    0.870378    2.754832   \n",
       "std     16.227345    1.307888    1.652358   17.903679    0.775428    1.769210   \n",
       "min      0.000000    0.000000    0.000000    0.000000    0.000000    0.000000   \n",
       "25%     20.000000    0.575000    0.800000   66.700000    0.300000    1.500000   \n",
       "50%     32.350000    1.000000    1.400000   75.400000    0.600000    2.350000   \n",
       "75%     36.725000    1.900000    2.600000   82.600000    1.200000    3.600000   \n",
       "max    100.000000    8.800000   10.200000  100.000000    4.900000   10.300000   \n",
       "\n",
       "              REB         AST         TOV         STL         BLK          PF  \\\n",
       "count  476.000000  476.000000  476.000000  476.000000  476.000000  476.000000   \n",
       "mean     3.620588    1.826261    1.146849    0.653361    0.415126    1.744538   \n",
       "std      2.407671    1.756553    0.782957    0.438861    0.448180    0.742706   \n",
       "min      0.000000    0.000000    0.000000    0.000000    0.000000    0.000000   \n",
       "25%      1.900000    0.675000    0.600000    0.300000    0.100000    1.200000   \n",
       "50%      3.100000    1.300000    0.900000    0.600000    0.300000    1.800000   \n",
       "75%      4.800000    2.325000    1.500000    0.900000    0.500000    2.200000   \n",
       "max     14.800000   11.700000    4.600000    2.100000    3.700000    6.000000   \n",
       "\n",
       "              DD2         TD3         PTS         +/-        SALARY  \n",
       "count  476.000000  476.000000  476.000000  476.000000  4.760000e+02  \n",
       "mean     4.424370    0.157563    8.349370   -0.399790  4.804590e+06  \n",
       "std      9.506151    1.136183    5.652556    3.077754  5.311455e+06  \n",
       "min      0.000000    0.000000    0.000000  -10.000000  3.088800e+04  \n",
       "25%      0.000000    0.000000    4.000000   -2.000000  1.140240e+06  \n",
       "50%      0.000000    0.000000    7.000000   -0.500000  2.614748e+06  \n",
       "75%      4.000000    0.000000   11.625000    1.100000  6.277500e+06  \n",
       "max     66.000000   18.000000   30.100000   13.200000  2.500000e+07  "
      ]
     },
     "execution_count": 7,
     "metadata": {},
     "output_type": "execute_result"
    }
   ],
   "source": [
    "df.describe()"
   ]
  },
  {
   "cell_type": "markdown",
   "metadata": {},
   "source": [
    "<h4 class=\"alert alert-warning\">Saving positions numbers</h4>"
   ]
  },
  {
   "cell_type": "code",
   "execution_count": 8,
   "metadata": {
    "collapsed": false
   },
   "outputs": [],
   "source": [
    "dict = {' PG': 0, ' PF': 1, ' SG' : 0, ' SF' : 1, ' C' : 2}\n",
    "invdict = {v: k for k, v in dict.iteritems()}\n",
    "\n",
    "actual_positions = [dict[x] for x in df['PosicAbbrev']]\n",
    "df = df.select_dtypes(include=['number']).drop(['Unnamed: 0'], 1)"
   ]
  },
  {
   "cell_type": "markdown",
   "metadata": {},
   "source": [
    "<h4 class=\"alert alert-warning\">Scaling data</h4>"
   ]
  },
  {
   "cell_type": "code",
   "execution_count": 9,
   "metadata": {
    "collapsed": false
   },
   "outputs": [],
   "source": [
    "cols = df.columns\n",
    "df = sk.preprocessing.scale(df)\n",
    "df = pd.DataFrame(df, columns=cols)"
   ]
  },
  {
   "cell_type": "markdown",
   "metadata": {},
   "source": [
    "<div class=\"alert alert-success\">\n",
    "    <h2>\n",
    "        Feature Selection\n",
    "    </h2>\n",
    "</div>\n",
    "<h4 class=\"alert alert-warning\">We remind the sets of selected features and build sub-dataframes for each of them</h4>"
   ]
  },
  {
   "cell_type": "code",
   "execution_count": 10,
   "metadata": {
    "collapsed": true
   },
   "outputs": [],
   "source": [
    "laplacian_score_features = [u'TD3', u'03:00:00 PM', u'3P%', u'PTS', u'FGM', u'3PA', u'FG%']\n",
    "spec_features = [u'+/-', u'PF', u'STL', u'AGE', u'BLK', u'OREB', u'TOV']\n",
    "mcfs_features = [u'OREB', u'DREB', u'STL', u'3PA', u'PF', u'+/-', u'AGE']\n",
    "papers_features = ['REB','AST','TOV','STL','BLK','PF','PTS']"
   ]
  },
  {
   "cell_type": "code",
   "execution_count": 11,
   "metadata": {
    "collapsed": true
   },
   "outputs": [],
   "source": [
    "laplacian_df = df[laplacian_score_features]\n",
    "spec_df = df[spec_features]\n",
    "mcfs_df = df[mcfs_features]\n",
    "papers_df = df[papers_features]"
   ]
  },
  {
   "cell_type": "markdown",
   "metadata": {},
   "source": [
    "<div class=\"alert alert-success\">\n",
    "    <h2>\n",
    "        Clustering Analysis - Classifiers comparison\n",
    "    </h2>\n",
    "</div>"
   ]
  },
  {
   "cell_type": "markdown",
   "metadata": {},
   "source": [
    "<h4 class=\"alert alert-warning\">We train each classifier and find its performance on test data</h4>"
   ]
  },
  {
   "cell_type": "code",
   "execution_count": 12,
   "metadata": {
    "collapsed": true
   },
   "outputs": [],
   "source": [
    "from sklearn.neural_network import MLPClassifier\n",
    "from sklearn.neighbors import KNeighborsClassifier\n",
    "from sklearn.svm import SVC\n",
    "from sklearn.gaussian_process import GaussianProcessClassifier\n",
    "from sklearn.gaussian_process.kernels import RBF\n",
    "from sklearn.tree import DecisionTreeClassifier\n",
    "from sklearn.ensemble import RandomForestClassifier, AdaBoostClassifier\n",
    "from sklearn.naive_bayes import GaussianNB\n",
    "from sklearn.discriminant_analysis import QuadraticDiscriminantAnalysis\n",
    "from sklearn.model_selection import StratifiedKFold"
   ]
  },
  {
   "cell_type": "code",
   "execution_count": 13,
   "metadata": {
    "collapsed": true
   },
   "outputs": [],
   "source": [
    "names = [\"Nearest Neighbors\", \"Linear SVM\", \"RBF SVM\", \"Gaussian Process\",\n",
    "         \"Decision Tree\", \"Random Forest\", \"Neural Net\", \"AdaBoost\",\n",
    "         \"Naive Bayes\", \"QDA\"]\n",
    "\n",
    "classifiers = [\n",
    "    KNeighborsClassifier(3),\n",
    "    SVC(kernel=\"linear\", C=0.025),\n",
    "    SVC(gamma=2, C=1),\n",
    "    GaussianProcessClassifier(1.0 * RBF(1.0), warm_start=True),\n",
    "    DecisionTreeClassifier(max_depth=5),\n",
    "    RandomForestClassifier(max_depth=5, n_estimators=10, max_features=1),\n",
    "    MLPClassifier(alpha=1),\n",
    "    AdaBoostClassifier(),\n",
    "    GaussianNB(),\n",
    "    QuadraticDiscriminantAnalysis()]"
   ]
  },
  {
   "cell_type": "code",
   "execution_count": 14,
   "metadata": {
    "collapsed": false
   },
   "outputs": [],
   "source": [
    "skf = StratifiedKFold(n_splits=10)\n",
    "train_index, test_index = next(iter(skf.split(df, actual_positions)))"
   ]
  },
  {
   "cell_type": "code",
   "execution_count": 15,
   "metadata": {
    "collapsed": true
   },
   "outputs": [],
   "source": [
    "train_index = [x in train_index for x in range(df.shape[0])]\n",
    "test_index = [x in test_index for x in range(df.shape[0])]"
   ]
  },
  {
   "cell_type": "code",
   "execution_count": 16,
   "metadata": {
    "collapsed": true
   },
   "outputs": [],
   "source": [
    "actual_positions_df = pd.DataFrame(actual_positions)"
   ]
  },
  {
   "cell_type": "code",
   "execution_count": 17,
   "metadata": {
    "collapsed": false
   },
   "outputs": [],
   "source": [
    "all_X_train = df[train_index]\n",
    "all_y_train = actual_positions_df[train_index][0]\n",
    "all_X_test = df[test_index]\n",
    "all_y_test = actual_positions_df[test_index][0]"
   ]
  },
  {
   "cell_type": "code",
   "execution_count": 23,
   "metadata": {
    "collapsed": false
   },
   "outputs": [],
   "source": [
    "assert(len(np.unique(actual_positions))==3)\n",
    "n_classes = 3"
   ]
  },
  {
   "cell_type": "code",
   "execution_count": 24,
   "metadata": {
    "collapsed": true
   },
   "outputs": [],
   "source": [
    "all_X_train = all_X_train.values\n",
    "all_X_test = all_X_test.values"
   ]
  },
  {
   "cell_type": "code",
   "execution_count": 25,
   "metadata": {
    "collapsed": true
   },
   "outputs": [],
   "source": [
    "estimators = {name: classifier\n",
    "                  for name, classifier in zip(names, classifiers)}\n",
    "n_estimators = len(estimators)"
   ]
  },
  {
   "cell_type": "code",
   "execution_count": 26,
   "metadata": {
    "collapsed": false
   },
   "outputs": [
    {
     "name": "stdout",
     "output_type": "stream",
     "text": [
      "Accuracy in testing set using Gaussian Process: 71.6666666667\n",
      "Accuracy in testing set using Decision Tree: 69.1666666667\n",
      "Accuracy in testing set using QDA: 70.8333333333\n",
      "Accuracy in testing set using Naive Bayes: 70.8333333333\n",
      "Accuracy in testing set using Linear SVM: 70.0\n"
     ]
    },
    {
     "name": "stderr",
     "output_type": "stream",
     "text": [
      "C:\\Users\\henrique\\Anaconda2\\lib\\site-packages\\sklearn\\neural_network\\multilayer_perceptron.py:563: ConvergenceWarning: Stochastic Optimizer: Maximum iterations reached and the optimization hasn't converged yet.\n",
      "  % (), ConvergenceWarning)\n"
     ]
    },
    {
     "name": "stdout",
     "output_type": "stream",
     "text": [
      "Accuracy in testing set using Neural Net: 72.5\n",
      "Accuracy in testing set using RBF SVM: 63.3333333333\n",
      "Accuracy in testing set using AdaBoost: 69.1666666667\n",
      "Accuracy in testing set using Random Forest: 74.1666666667\n",
      "Accuracy in testing set using Nearest Neighbors: 70.8333333333\n"
     ]
    }
   ],
   "source": [
    "for index, (name, estimator) in enumerate(estimators.items()):    \n",
    "    estimator.fit(all_X_train, all_y_train)\n",
    "    all_y_train_pred = estimator.predict(all_X_train)\n",
    "    all_y_test_pred = estimator.predict(all_X_test)\n",
    "    train_accuracy = np.mean(all_y_train_pred.ravel() == all_y_train.ravel()) * 100    \n",
    "    #print \"Accuracy in training set using \" + name + \":\", train_accuracy\n",
    "    test_accuracy = np.mean(all_y_test_pred.ravel() == all_y_test.ravel()) * 100        \n",
    "    print \"Accuracy in testing set using \" + name + \":\", test_accuracy"
   ]
  },
  {
   "cell_type": "markdown",
   "metadata": {},
   "source": [
    "<h4 class=\"alert alert-warning\">Here we only use features from the paper</h4>"
   ]
  },
  {
   "cell_type": "code",
   "execution_count": 28,
   "metadata": {
    "collapsed": false
   },
   "outputs": [
    {
     "name": "stdout",
     "output_type": "stream",
     "text": [
      "Accuracy in testing set using Gaussian Process: 71.6666666667\n",
      "Accuracy in testing set using Decision Tree: 69.1666666667\n",
      "Accuracy in testing set using QDA: 70.8333333333\n",
      "Accuracy in testing set using Naive Bayes: 70.8333333333\n",
      "Accuracy in testing set using Linear SVM: 70.0\n",
      "Accuracy in testing set using Neural Net: 71.6666666667\n",
      "Accuracy in testing set using RBF SVM: 63.3333333333\n",
      "Accuracy in testing set using AdaBoost: 69.1666666667\n",
      "Accuracy in testing set using Random Forest: 70.0\n",
      "Accuracy in testing set using Nearest Neighbors: 70.8333333333\n"
     ]
    }
   ],
   "source": [
    "skf = StratifiedKFold(n_splits=4)\n",
    "train_index, test_index = next(iter(skf.split(df, actual_positions)))\n",
    "train_index = [x in train_index for x in range(df.shape[0])]\n",
    "test_index = [x in test_index for x in range(df.shape[0])]\n",
    "all_X_train = papers_df[train_index]\n",
    "all_y_train = actual_positions_df[train_index][0]\n",
    "all_X_test = papers_df[test_index]\n",
    "all_y_test = actual_positions_df[test_index][0]\n",
    "assert(len(np.unique(actual_positions))==3)\n",
    "n_classes = 3\n",
    "estimators = {name: classifier\n",
    "                  for name, classifier in zip(names, classifiers)}\n",
    "n_estimators = len(estimators)\n",
    "n_estimators = len(estimators)\n",
    "all_X_train = all_X_train.values\n",
    "all_X_test = all_X_test.values\n",
    "for index, (name, estimator) in enumerate(estimators.items()):    \n",
    "    estimator.fit(all_X_train, all_y_train)\n",
    "    all_y_train_pred = estimator.predict(all_X_train)\n",
    "    all_y_test_pred = estimator.predict(all_X_test)\n",
    "    train_accuracy = np.mean(all_y_train_pred.ravel() == all_y_train.ravel()) * 100    \n",
    "    #print \"Accuracy in training set using \" + name + \":\", train_accuracy\n",
    "    test_accuracy = np.mean(all_y_test_pred.ravel() == all_y_test.ravel()) * 100        \n",
    "    print \"Accuracy in testing set using \" + name + \":\", test_accuracy"
   ]
  },
  {
   "cell_type": "markdown",
   "metadata": {},
   "source": [
    "<h4 class=\"alert alert-warning\">Here we we train a random forest model with several different parameters using all the features</h4>"
   ]
  },
  {
   "cell_type": "code",
   "execution_count": 32,
   "metadata": {
    "collapsed": false
   },
   "outputs": [],
   "source": [
    "names = [\"Random Forest - 1\", \"Random Forest - 2\", \"Random Forest - 3\", \"Random Forest - 4\"]\n",
    "\n",
    "classifiers = [\n",
    "    RandomForestClassifier(max_depth=10, n_estimators=10, max_features=1),\n",
    "    RandomForestClassifier(max_depth=5, n_estimators=20, max_features=3),\n",
    "    RandomForestClassifier(max_depth=20, n_estimators=50, max_features=2),\n",
    "    RandomForestClassifier(max_depth=16, n_estimators=15, max_features=2)\n",
    "]"
   ]
  },
  {
   "cell_type": "code",
   "execution_count": 33,
   "metadata": {
    "collapsed": false
   },
   "outputs": [
    {
     "name": "stdout",
     "output_type": "stream",
     "text": [
      "Accuracy in testing set using Random Forest - 4: 72.5\n",
      "Accuracy in testing set using Random Forest - 1: 72.5\n",
      "Accuracy in testing set using Random Forest - 2: 74.1666666667\n",
      "Accuracy in testing set using Random Forest - 3: 73.3333333333\n"
     ]
    }
   ],
   "source": [
    "skf = StratifiedKFold(n_splits=4)\n",
    "train_index, test_index = next(iter(skf.split(df, actual_positions)))\n",
    "train_index = [x in train_index for x in range(df.shape[0])]\n",
    "test_index = [x in test_index for x in range(df.shape[0])]\n",
    "all_X_train = df[train_index]\n",
    "all_y_train = actual_positions_df[train_index][0]\n",
    "all_X_test = df[test_index]\n",
    "all_y_test = actual_positions_df[test_index][0]\n",
    "assert(len(np.unique(actual_positions))==3)\n",
    "n_classes = 3\n",
    "estimators = {name: classifier\n",
    "                  for name, classifier in zip(names, classifiers)}\n",
    "n_estimators = len(estimators)\n",
    "n_estimators = len(estimators)\n",
    "all_X_train = all_X_train.values\n",
    "all_X_test = all_X_test.values\n",
    "for index, (name, estimator) in enumerate(estimators.items()):    \n",
    "    estimator.fit(all_X_train, all_y_train)\n",
    "    all_y_train_pred = estimator.predict(all_X_train)\n",
    "    all_y_test_pred = estimator.predict(all_X_test)\n",
    "    train_accuracy = np.mean(all_y_train_pred.ravel() == all_y_train.ravel()) * 100    \n",
    "    #print \"Accuracy in training set using \" + name + \":\", train_accuracy\n",
    "    test_accuracy = np.mean(all_y_test_pred.ravel() == all_y_test.ravel()) * 100        \n",
    "    print \"Accuracy in testing set using \" + name + \":\", test_accuracy"
   ]
  },
  {
   "cell_type": "markdown",
   "metadata": {},
   "source": [
    "<div class=\"alert alert-success\">\n",
    "    <h2>\n",
    "        ANALYSIS\n",
    "    </h2>\n",
    "</div>"
   ]
  },
  {
   "cell_type": "markdown",
   "metadata": {},
   "source": [
    "When we reduce the number of positions to three (forward, guard and center), we observed significantly better accuracies. For instance, a non-optimized random forest model attained an accuracy of 74.16%"
   ]
  },
  {
   "cell_type": "markdown",
   "metadata": {},
   "source": [
    "We could also notice that reducing the number of features led to worse prediction rates for most supervised learning algorithms."
   ]
  },
  {
   "cell_type": "markdown",
   "metadata": {},
   "source": [
    "Finally, we argue that the division of player positions in 3 categories is better supported than the division in 5 categories. Yet, this division has some flaws, for a 26% error rate is noteworthy."
   ]
  },
  {
   "cell_type": "code",
   "execution_count": null,
   "metadata": {
    "collapsed": true
   },
   "outputs": [],
   "source": []
  }
 ],
 "metadata": {
  "kernelspec": {
   "display_name": "Python 2",
   "language": "python",
   "name": "python2"
  },
  "language_info": {
   "codemirror_mode": {
    "name": "ipython",
    "version": 2
   },
   "file_extension": ".py",
   "mimetype": "text/x-python",
   "name": "python",
   "nbconvert_exporter": "python",
   "pygments_lexer": "ipython2",
   "version": "2.7.12"
  }
 },
 "nbformat": 4,
 "nbformat_minor": 0
}

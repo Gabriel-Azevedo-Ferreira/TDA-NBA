{
 "cells": [
  {
   "cell_type": "code",
   "execution_count": 254,
   "metadata": {
    "collapsed": false
   },
   "outputs": [],
   "source": [
    "import numpy as np\n",
    "import pandas as pd\n",
    "\n",
    "posic = pd.read_csv(\"Positions.csv\", usecols=['Player','PosicAbbrev'])\n",
    "NBA =pd.read_csv(\"nba-2015-2016-regular-season (1).csv\")"
   ]
  },
  {
   "cell_type": "code",
   "execution_count": 255,
   "metadata": {
    "collapsed": false
   },
   "outputs": [
    {
     "data": {
      "text/html": [
       "<div>\n",
       "<table border=\"1\" class=\"dataframe\">\n",
       "  <thead>\n",
       "    <tr style=\"text-align: right;\">\n",
       "      <th></th>\n",
       "      <th>Player</th>\n",
       "      <th>PosicAbbrev</th>\n",
       "    </tr>\n",
       "  </thead>\n",
       "  <tbody>\n",
       "    <tr>\n",
       "      <th>0</th>\n",
       "      <td>Russell Westbrook</td>\n",
       "      <td>PG</td>\n",
       "    </tr>\n",
       "    <tr>\n",
       "      <th>1</th>\n",
       "      <td>Rajon Rondo</td>\n",
       "      <td>PG</td>\n",
       "    </tr>\n",
       "    <tr>\n",
       "      <th>2</th>\n",
       "      <td>Stephen Curry</td>\n",
       "      <td>PG</td>\n",
       "    </tr>\n",
       "    <tr>\n",
       "      <th>3</th>\n",
       "      <td>Michael Carter-Williams</td>\n",
       "      <td>PG</td>\n",
       "    </tr>\n",
       "    <tr>\n",
       "      <th>4</th>\n",
       "      <td>John Wall</td>\n",
       "      <td>PG</td>\n",
       "    </tr>\n",
       "  </tbody>\n",
       "</table>\n",
       "</div>"
      ],
      "text/plain": [
       "                    Player PosicAbbrev\n",
       "0        Russell Westbrook          PG\n",
       "1              Rajon Rondo          PG\n",
       "2            Stephen Curry          PG\n",
       "3  Michael Carter-Williams          PG\n",
       "4                John Wall          PG"
      ]
     },
     "execution_count": 255,
     "metadata": {},
     "output_type": "execute_result"
    }
   ],
   "source": [
    "posic.head()"
   ]
  },
  {
   "cell_type": "code",
   "execution_count": 215,
   "metadata": {
    "collapsed": false
   },
   "outputs": [
    {
     "data": {
      "text/html": [
       "<div>\n",
       "<table border=\"1\" class=\"dataframe\">\n",
       "  <thead>\n",
       "    <tr style=\"text-align: right;\">\n",
       "      <th></th>\n",
       "      <th>Player</th>\n",
       "      <th>TEAM</th>\n",
       "      <th>AGE</th>\n",
       "      <th>GP</th>\n",
       "      <th>W</th>\n",
       "      <th>L</th>\n",
       "      <th>MIN</th>\n",
       "      <th>FGM</th>\n",
       "      <th>FGA</th>\n",
       "      <th>FG%</th>\n",
       "      <th>...</th>\n",
       "      <th>REB</th>\n",
       "      <th>AST</th>\n",
       "      <th>TOV</th>\n",
       "      <th>STL</th>\n",
       "      <th>BLK</th>\n",
       "      <th>PF</th>\n",
       "      <th>DD2</th>\n",
       "      <th>TD3</th>\n",
       "      <th>PTS</th>\n",
       "      <th>+/-</th>\n",
       "    </tr>\n",
       "  </thead>\n",
       "  <tbody>\n",
       "    <tr>\n",
       "      <th>0</th>\n",
       "      <td>Aaron Brooks</td>\n",
       "      <td>CHI</td>\n",
       "      <td>31</td>\n",
       "      <td>69</td>\n",
       "      <td>36</td>\n",
       "      <td>33</td>\n",
       "      <td>16.1</td>\n",
       "      <td>2.7</td>\n",
       "      <td>6.8</td>\n",
       "      <td>40.1</td>\n",
       "      <td>...</td>\n",
       "      <td>1.5</td>\n",
       "      <td>2.6</td>\n",
       "      <td>1.2</td>\n",
       "      <td>0.4</td>\n",
       "      <td>0.1</td>\n",
       "      <td>1.9</td>\n",
       "      <td>0</td>\n",
       "      <td>0</td>\n",
       "      <td>7.1</td>\n",
       "      <td>-0.1</td>\n",
       "    </tr>\n",
       "    <tr>\n",
       "      <th>1</th>\n",
       "      <td>Aaron Gordon</td>\n",
       "      <td>ORL</td>\n",
       "      <td>20</td>\n",
       "      <td>78</td>\n",
       "      <td>32</td>\n",
       "      <td>46</td>\n",
       "      <td>23.9</td>\n",
       "      <td>3.5</td>\n",
       "      <td>7.4</td>\n",
       "      <td>47.3</td>\n",
       "      <td>...</td>\n",
       "      <td>6.5</td>\n",
       "      <td>1.6</td>\n",
       "      <td>0.8</td>\n",
       "      <td>0.8</td>\n",
       "      <td>0.7</td>\n",
       "      <td>2.0</td>\n",
       "      <td>12</td>\n",
       "      <td>0</td>\n",
       "      <td>9.2</td>\n",
       "      <td>-1.0</td>\n",
       "    </tr>\n",
       "    <tr>\n",
       "      <th>2</th>\n",
       "      <td>Aaron Harrison</td>\n",
       "      <td>CHA</td>\n",
       "      <td>21</td>\n",
       "      <td>21</td>\n",
       "      <td>15</td>\n",
       "      <td>6</td>\n",
       "      <td>4.4</td>\n",
       "      <td>0.2</td>\n",
       "      <td>0.9</td>\n",
       "      <td>26.3</td>\n",
       "      <td>...</td>\n",
       "      <td>0.7</td>\n",
       "      <td>0.1</td>\n",
       "      <td>0.2</td>\n",
       "      <td>0.3</td>\n",
       "      <td>0.0</td>\n",
       "      <td>0.5</td>\n",
       "      <td>0</td>\n",
       "      <td>0</td>\n",
       "      <td>0.9</td>\n",
       "      <td>-0.3</td>\n",
       "    </tr>\n",
       "    <tr>\n",
       "      <th>3</th>\n",
       "      <td>Adreian Payne</td>\n",
       "      <td>MIN</td>\n",
       "      <td>25</td>\n",
       "      <td>52</td>\n",
       "      <td>18</td>\n",
       "      <td>34</td>\n",
       "      <td>9.3</td>\n",
       "      <td>1.0</td>\n",
       "      <td>2.8</td>\n",
       "      <td>36.6</td>\n",
       "      <td>...</td>\n",
       "      <td>2.1</td>\n",
       "      <td>0.6</td>\n",
       "      <td>0.7</td>\n",
       "      <td>0.3</td>\n",
       "      <td>0.2</td>\n",
       "      <td>1.5</td>\n",
       "      <td>0</td>\n",
       "      <td>0</td>\n",
       "      <td>2.5</td>\n",
       "      <td>-2.3</td>\n",
       "    </tr>\n",
       "    <tr>\n",
       "      <th>4</th>\n",
       "      <td>Al Horford</td>\n",
       "      <td>ATL</td>\n",
       "      <td>30</td>\n",
       "      <td>82</td>\n",
       "      <td>48</td>\n",
       "      <td>34</td>\n",
       "      <td>32.1</td>\n",
       "      <td>6.5</td>\n",
       "      <td>12.8</td>\n",
       "      <td>50.5</td>\n",
       "      <td>...</td>\n",
       "      <td>7.3</td>\n",
       "      <td>3.2</td>\n",
       "      <td>1.3</td>\n",
       "      <td>0.8</td>\n",
       "      <td>1.5</td>\n",
       "      <td>2.0</td>\n",
       "      <td>17</td>\n",
       "      <td>0</td>\n",
       "      <td>15.2</td>\n",
       "      <td>2.8</td>\n",
       "    </tr>\n",
       "  </tbody>\n",
       "</table>\n",
       "<p>5 rows × 28 columns</p>\n",
       "</div>"
      ],
      "text/plain": [
       "           Player TEAM  AGE  GP   W   L   MIN  FGM   FGA   FG% ...   REB  AST  \\\n",
       "0    Aaron Brooks  CHI   31  69  36  33  16.1  2.7   6.8  40.1 ...   1.5  2.6   \n",
       "1    Aaron Gordon  ORL   20  78  32  46  23.9  3.5   7.4  47.3 ...   6.5  1.6   \n",
       "2  Aaron Harrison  CHA   21  21  15   6   4.4  0.2   0.9  26.3 ...   0.7  0.1   \n",
       "3   Adreian Payne  MIN   25  52  18  34   9.3  1.0   2.8  36.6 ...   2.1  0.6   \n",
       "4      Al Horford  ATL   30  82  48  34  32.1  6.5  12.8  50.5 ...   7.3  3.2   \n",
       "\n",
       "   TOV  STL  BLK   PF  DD2  TD3   PTS  +/-  \n",
       "0  1.2  0.4  0.1  1.9    0    0   7.1 -0.1  \n",
       "1  0.8  0.8  0.7  2.0   12    0   9.2 -1.0  \n",
       "2  0.2  0.3  0.0  0.5    0    0   0.9 -0.3  \n",
       "3  0.7  0.3  0.2  1.5    0    0   2.5 -2.3  \n",
       "4  1.3  0.8  1.5  2.0   17    0  15.2  2.8  \n",
       "\n",
       "[5 rows x 28 columns]"
      ]
     },
     "execution_count": 215,
     "metadata": {},
     "output_type": "execute_result"
    }
   ],
   "source": [
    "NBA.head()"
   ]
  },
  {
   "cell_type": "code",
   "execution_count": 256,
   "metadata": {
    "collapsed": false
   },
   "outputs": [],
   "source": [
    "df = NBA.set_index('Player').join(posic.set_index('Player')).reset_index()\n",
    "df.head()\n",
    "conflits2 = df.loc[~df.loc[:,'PosicAbbrev'].isin((' PG',' SG',' PF',' C',' SF')),('Player')]\n",
    "conflits2.sort_values(inplace=True)\n",
    "conflits2 = conflits2.reset_index()['Player']"
   ]
  },
  {
   "cell_type": "code",
   "execution_count": 257,
   "metadata": {
    "collapsed": false
   },
   "outputs": [],
   "source": [
    "df = posic.set_index('Player').join(NBA.set_index('Player')).reset_index()\n",
    "df.head()\n",
    "conflits = df.loc[~(df.loc[:,'AGE'] >= 0),('Player')]\n",
    "conflits.sort_values(inplace=True)\n",
    "conflits = conflits.reset_index()['Player']\n",
    "\n",
    "aka = pd.DataFrame()\n",
    "aka['NBA'] = conflits\n",
    "aka['Pos'] = conflits2\n",
    "\n",
    "aux = aka.loc[6,'Pos']\n",
    "aka.loc[6,'Pos'] = aka.loc[8,'Pos']\n",
    "aka.loc[8,'Pos'] = aka.loc[7,'Pos']\n",
    "aka.loc[7,'Pos'] = aux\n",
    "df = NBA\n",
    "\n",
    "for i in aka.index:\n",
    "    df.loc[df['Player'] == aka.loc[i,'Pos'],'Player'] = aka.loc[i,'NBA']\n",
    "\n",
    "df = df.set_index('Player').join(posic.set_index('Player')).reset_index()"
   ]
  },
  {
   "cell_type": "code",
   "execution_count": 259,
   "metadata": {
    "collapsed": false
   },
   "outputs": [
    {
     "data": {
      "text/plain": [
       "True"
      ]
     },
     "execution_count": 259,
     "metadata": {},
     "output_type": "execute_result"
    }
   ],
   "source": [
    "df.loc[:,'PosicAbbrev'].isin((' PG',' SG',' PF',' C',' SF')).all()"
   ]
  },
  {
   "cell_type": "code",
   "execution_count": 258,
   "metadata": {
    "collapsed": false
   },
   "outputs": [],
   "source": [
    "df.to_csv(\"NBA-preprocessed-data.csv\")"
   ]
  }
 ],
 "metadata": {
  "anaconda-cloud": {},
  "kernelspec": {
   "display_name": "Python 2",
   "language": "python",
   "name": "python2"
  },
  "language_info": {
   "codemirror_mode": {
    "name": "ipython",
    "version": 2
   },
   "file_extension": ".py",
   "mimetype": "text/x-python",
   "name": "python",
   "nbconvert_exporter": "python",
   "pygments_lexer": "ipython2",
   "version": "2.7.12"
  }
 },
 "nbformat": 4,
 "nbformat_minor": 1
}
